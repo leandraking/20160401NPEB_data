{
 "cells": [
  {
   "cell_type": "code",
   "execution_count": 6,
   "metadata": {
    "collapsed": false
   },
   "outputs": [
    {
     "name": "stderr",
     "output_type": "stream",
     "text": [
      "Iso 0.0-17\n"
     ]
    }
   ],
   "source": [
    "library(\"Iso\")"
   ]
  },
  {
   "cell_type": "code",
   "execution_count": 1,
   "metadata": {
    "collapsed": true
   },
   "outputs": [],
   "source": [
    "#This data was from nielsen and cassa, chimp human\n",
    "mx <- c(214, 262, 251, 202, 146, 98, 46, 27, 32, 10, 7, 6, 2, 3, 1, 2, 1, 0, 0, 1, 0, 0, 0, 0, 0, 0, 1, 0, 0, 0, 0, 0, 0, 0, 0, 1)\n",
    "#This data is from the nature paper\n",
    "mx<-c(35551, 1495, 364, 109, 33, 16, 4, 2)"
   ]
  },
  {
   "cell_type": "code",
   "execution_count": 2,
   "metadata": {
    "collapsed": false
   },
   "outputs": [],
   "source": [
    "minPt = 0\n",
    "#maxPt = 35\n",
    "maxPt = 7\n",
    "\n",
    "numWeights<-mx[-1]\n",
    "denomWeights<-mx[-length(mx)]\n",
    "InvVarEstimate<-mapply(function(x,y,z) ((z+1)^2*(x^2/y^2)*(1/x + 1/y))^(-1), numWeights, denomWeights, minPt:(maxPt-1))"
   ]
  },
  {
   "cell_type": "code",
   "execution_count": 3,
   "metadata": {
    "collapsed": false
   },
   "outputs": [],
   "source": [
    "CUTOFF = .1\n",
    "#We only consider points with cutoff greater than CUTOFF\n",
    "tabl<-sapply(minPt:maxPt,\n",
    "               function(x) ifelse(1/InvVarEstimate[x + 1 - minPt] < CUTOFF & !is.na(InvVarEstimate[x+1-minPt]),\n",
    "                                  (x+1)*mx[x + 2 - minPt] / mx[x+1-minPt], NA))"
   ]
  },
  {
   "cell_type": "code",
   "execution_count": 9,
   "metadata": {
    "collapsed": false
   },
   "outputs": [
    {
     "data": {
      "text/html": [
       "<ol class=list-inline>\n",
       "\t<li>0.04205226294619</li>\n",
       "\t<li>0.48695652173913</li>\n",
       "\t<li>0.898351648351648</li>\n",
       "\t<li>1.21100917431193</li>\n",
       "\t<li>NA</li>\n",
       "\t<li>NA</li>\n",
       "\t<li>NA</li>\n",
       "\t<li>NA</li>\n",
       "</ol>\n"
      ],
      "text/latex": [
       "\\begin{enumerate*}\n",
       "\\item 0.04205226294619\n",
       "\\item 0.48695652173913\n",
       "\\item 0.898351648351648\n",
       "\\item 1.21100917431193\n",
       "\\item NA\n",
       "\\item NA\n",
       "\\item NA\n",
       "\\item NA\n",
       "\\end{enumerate*}\n"
      ],
      "text/markdown": [
       "1. 0.04205226294619\n",
       "2. 0.48695652173913\n",
       "3. 0.898351648351648\n",
       "4. 1.21100917431193\n",
       "5. NA\n",
       "6. NA\n",
       "7. NA\n",
       "8. NA\n",
       "\n",
       "\n"
      ],
      "text/plain": [
       "[1] 0.04205226 0.48695652 0.89835165 1.21100917         NA         NA         NA\n",
       "[8]         NA"
      ]
     },
     "execution_count": 9,
     "metadata": {},
     "output_type": "execute_result"
    }
   ],
   "source": [
    "tabl"
   ]
  },
  {
   "cell_type": "code",
   "execution_count": 27,
   "metadata": {
    "collapsed": false
   },
   "outputs": [
    {
     "data": {
      "text/html": [
       "<ol class=list-inline>\n",
       "\t<li>0.04205226294619</li>\n",
       "\t<li>0.48695652173913</li>\n",
       "\t<li>0.898351648351648</li>\n",
       "\t<li>1.21100917431193</li>\n",
       "\t<li>NA</li>\n",
       "\t<li>NA</li>\n",
       "\t<li>NA</li>\n",
       "\t<li>NA</li>\n",
       "</ol>\n"
      ],
      "text/latex": [
       "\\begin{enumerate*}\n",
       "\\item 0.04205226294619\n",
       "\\item 0.48695652173913\n",
       "\\item 0.898351648351648\n",
       "\\item 1.21100917431193\n",
       "\\item NA\n",
       "\\item NA\n",
       "\\item NA\n",
       "\\item NA\n",
       "\\end{enumerate*}\n"
      ],
      "text/markdown": [
       "1. 0.04205226294619\n",
       "2. 0.48695652173913\n",
       "3. 0.898351648351648\n",
       "4. 1.21100917431193\n",
       "5. NA\n",
       "6. NA\n",
       "7. NA\n",
       "8. NA\n",
       "\n",
       "\n"
      ],
      "text/plain": [
       "[1] 0.04205226 0.48695652 0.89835165 1.21100917         NA         NA         NA\n",
       "[8]         NA"
      ]
     },
     "execution_count": 27,
     "metadata": {},
     "output_type": "execute_result"
    }
   ],
   "source": [
    "pav<-pava(tabl[!is.na(tabl)], InvVarEstimate[!is.na(tabl)], decreasing=FALSE, long.out=FALSE, stepfun=FALSE)\n",
    "tabl[!is.na(tabl)]<-pav\n",
    "tabl"
   ]
  },
  {
   "cell_type": "code",
   "execution_count": 29,
   "metadata": {
    "collapsed": false
   },
   "outputs": [
    {
     "data": {
      "text/html": [
       "<ol class=list-inline>\n",
       "\t<li>15588.7688857466</li>\n",
       "\t<li>180514.724843984</li>\n",
       "\t<li>333018.849477924</li>\n",
       "\t<li>448920.957262725</li>\n",
       "\t<li>NA</li>\n",
       "\t<li>NA</li>\n",
       "\t<li>NA</li>\n",
       "\t<li>NA</li>\n",
       "</ol>\n"
      ],
      "text/latex": [
       "\\begin{enumerate*}\n",
       "\\item 15588.7688857466\n",
       "\\item 180514.724843984\n",
       "\\item 333018.849477924\n",
       "\\item 448920.957262725\n",
       "\\item NA\n",
       "\\item NA\n",
       "\\item NA\n",
       "\\item NA\n",
       "\\end{enumerate*}\n"
      ],
      "text/markdown": [
       "1. 15588.7688857466\n",
       "2. 180514.724843984\n",
       "3. 333018.849477924\n",
       "4. 448920.957262725\n",
       "5. NA\n",
       "6. NA\n",
       "7. NA\n",
       "8. NA\n",
       "\n",
       "\n"
      ],
      "text/plain": [
       "[1]  15588.77 180514.72 333018.85 448920.96        NA        NA        NA\n",
       "[8]        NA"
      ]
     },
     "execution_count": 29,
     "metadata": {},
     "output_type": "execute_result"
    },
    {
     "data": {
      "text/html": [
       "0.0745196146271358"
      ],
      "text/latex": [
       "0.0745196146271358"
      ],
      "text/markdown": [
       "0.0745196146271358"
      ],
      "text/plain": [
       "[1] 0.07451961"
      ]
     },
     "execution_count": 29,
     "metadata": {},
     "output_type": "execute_result"
    },
    {
     "data": {
      "text/html": [
       "55757.44392399"
      ],
      "text/latex": [
       "55757.44392399"
      ],
      "text/markdown": [
       "55757.44392399"
      ],
      "text/plain": [
       "[1] 55757.44"
      ]
     },
     "execution_count": 29,
     "metadata": {},
     "output_type": "execute_result"
    }
   ],
   "source": [
    "#This if for the nautre paper data\n",
    "tabl*25/(2* 2*10^(-8)*2*843)\n",
    "\n",
    "#This is the sum using the nature paper data\n",
    "sum(minPt:maxPt * mx)/sum(mx)\n",
    "\n",
    "\n",
    "(361029-31177)*0.0745196146271358 + 31177\n",
    "\n",
    "#compare to non npeb estimates"
   ]
  },
  {
   "cell_type": "markdown",
   "metadata": {},
   "source": [
    "Mu*l = 0.00001  \n",
    "2Mu*l = 0.00002"
   ]
  },
  {
   "cell_type": "code",
   "execution_count": 11,
   "metadata": {
    "collapsed": false
   },
   "outputs": [
    {
     "data": {
      "text/html": [
       "<ol class=list-inline>\n",
       "\t<li>61214.953271028</li>\n",
       "\t<li>95801.5267175572</li>\n",
       "\t<li>120717.131474104</li>\n",
       "\t<li>144554.455445545</li>\n",
       "\t<li>NA</li>\n",
       "\t<li>NA</li>\n",
       "\t<li>NA</li>\n",
       "\t<li>NA</li>\n",
       "\t<li>NA</li>\n",
       "\t<li>NA</li>\n",
       "\t<li>NA</li>\n",
       "\t<li>NA</li>\n",
       "\t<li>NA</li>\n",
       "\t<li>NA</li>\n",
       "\t<li>NA</li>\n",
       "\t<li>NA</li>\n",
       "\t<li>NA</li>\n",
       "\t<li>NA</li>\n",
       "\t<li>NA</li>\n",
       "\t<li>NA</li>\n",
       "\t<li>NA</li>\n",
       "\t<li>NA</li>\n",
       "\t<li>NA</li>\n",
       "\t<li>NA</li>\n",
       "\t<li>NA</li>\n",
       "\t<li>NA</li>\n",
       "\t<li>NA</li>\n",
       "\t<li>NA</li>\n",
       "\t<li>NA</li>\n",
       "\t<li>NA</li>\n",
       "\t<li>NA</li>\n",
       "\t<li>NA</li>\n",
       "\t<li>NA</li>\n",
       "\t<li>NA</li>\n",
       "\t<li>NA</li>\n",
       "\t<li>NA</li>\n",
       "</ol>\n"
      ],
      "text/latex": [
       "\\begin{enumerate*}\n",
       "\\item 61214.953271028\n",
       "\\item 95801.5267175572\n",
       "\\item 120717.131474104\n",
       "\\item 144554.455445545\n",
       "\\item NA\n",
       "\\item NA\n",
       "\\item NA\n",
       "\\item NA\n",
       "\\item NA\n",
       "\\item NA\n",
       "\\item NA\n",
       "\\item NA\n",
       "\\item NA\n",
       "\\item NA\n",
       "\\item NA\n",
       "\\item NA\n",
       "\\item NA\n",
       "\\item NA\n",
       "\\item NA\n",
       "\\item NA\n",
       "\\item NA\n",
       "\\item NA\n",
       "\\item NA\n",
       "\\item NA\n",
       "\\item NA\n",
       "\\item NA\n",
       "\\item NA\n",
       "\\item NA\n",
       "\\item NA\n",
       "\\item NA\n",
       "\\item NA\n",
       "\\item NA\n",
       "\\item NA\n",
       "\\item NA\n",
       "\\item NA\n",
       "\\item NA\n",
       "\\end{enumerate*}\n"
      ],
      "text/markdown": [
       "1. 61214.953271028\n",
       "2. 95801.5267175572\n",
       "3. 120717.131474104\n",
       "4. 144554.455445545\n",
       "5. NA\n",
       "6. NA\n",
       "7. NA\n",
       "8. NA\n",
       "9. NA\n",
       "10. NA\n",
       "11. NA\n",
       "12. NA\n",
       "13. NA\n",
       "14. NA\n",
       "15. NA\n",
       "16. NA\n",
       "17. NA\n",
       "18. NA\n",
       "19. NA\n",
       "20. NA\n",
       "21. NA\n",
       "22. NA\n",
       "23. NA\n",
       "24. NA\n",
       "25. NA\n",
       "26. NA\n",
       "27. NA\n",
       "28. NA\n",
       "29. NA\n",
       "30. NA\n",
       "31. NA\n",
       "32. NA\n",
       "33. NA\n",
       "34. NA\n",
       "35. NA\n",
       "36. NA\n",
       "\n",
       "\n"
      ],
      "text/plain": [
       " [1]  61214.95  95801.53 120717.13 144554.46        NA        NA        NA\n",
       " [8]        NA        NA        NA        NA        NA        NA        NA\n",
       "[15]        NA        NA        NA        NA        NA        NA        NA\n",
       "[22]        NA        NA        NA        NA        NA        NA        NA\n",
       "[29]        NA        NA        NA        NA        NA        NA        NA\n",
       "[36]        NA"
      ]
     },
     "execution_count": 11,
     "metadata": {},
     "output_type": "execute_result"
    }
   ],
   "source": [
    "tabl/0.00002"
   ]
  },
  {
   "cell_type": "markdown",
   "metadata": {},
   "source": [
    "This would be generations, let's take a generation to be 30 years ???? (It will be different for humans and chimps). Also, will mutation rates be differnt for humans and chimps?  Have we measured mutation rate correctly?"
   ]
  },
  {
   "cell_type": "code",
   "execution_count": 24,
   "metadata": {
    "collapsed": false
   },
   "outputs": [
    {
     "data": {
      "text/html": [
       "<ol class=list-inline>\n",
       "\t<li>3672897.19626168</li>\n",
       "\t<li>5748091.60305343</li>\n",
       "\t<li>7243027.88844621</li>\n",
       "\t<li>8673267.32673267</li>\n",
       "\t<li>NA</li>\n",
       "\t<li>NA</li>\n",
       "\t<li>NA</li>\n",
       "\t<li>NA</li>\n",
       "\t<li>NA</li>\n",
       "\t<li>NA</li>\n",
       "\t<li>NA</li>\n",
       "\t<li>NA</li>\n",
       "\t<li>NA</li>\n",
       "\t<li>NA</li>\n",
       "\t<li>NA</li>\n",
       "\t<li>NA</li>\n",
       "\t<li>NA</li>\n",
       "\t<li>NA</li>\n",
       "\t<li>NA</li>\n",
       "\t<li>NA</li>\n",
       "\t<li>NA</li>\n",
       "\t<li>NA</li>\n",
       "\t<li>NA</li>\n",
       "\t<li>NA</li>\n",
       "\t<li>NA</li>\n",
       "\t<li>NA</li>\n",
       "\t<li>NA</li>\n",
       "\t<li>NA</li>\n",
       "\t<li>NA</li>\n",
       "\t<li>NA</li>\n",
       "\t<li>NA</li>\n",
       "\t<li>NA</li>\n",
       "\t<li>NA</li>\n",
       "\t<li>NA</li>\n",
       "\t<li>NA</li>\n",
       "\t<li>NA</li>\n",
       "</ol>\n"
      ],
      "text/latex": [
       "\\begin{enumerate*}\n",
       "\\item 3672897.19626168\n",
       "\\item 5748091.60305343\n",
       "\\item 7243027.88844621\n",
       "\\item 8673267.32673267\n",
       "\\item NA\n",
       "\\item NA\n",
       "\\item NA\n",
       "\\item NA\n",
       "\\item NA\n",
       "\\item NA\n",
       "\\item NA\n",
       "\\item NA\n",
       "\\item NA\n",
       "\\item NA\n",
       "\\item NA\n",
       "\\item NA\n",
       "\\item NA\n",
       "\\item NA\n",
       "\\item NA\n",
       "\\item NA\n",
       "\\item NA\n",
       "\\item NA\n",
       "\\item NA\n",
       "\\item NA\n",
       "\\item NA\n",
       "\\item NA\n",
       "\\item NA\n",
       "\\item NA\n",
       "\\item NA\n",
       "\\item NA\n",
       "\\item NA\n",
       "\\item NA\n",
       "\\item NA\n",
       "\\item NA\n",
       "\\item NA\n",
       "\\item NA\n",
       "\\end{enumerate*}\n"
      ],
      "text/markdown": [
       "1. 3672897.19626168\n",
       "2. 5748091.60305343\n",
       "3. 7243027.88844621\n",
       "4. 8673267.32673267\n",
       "5. NA\n",
       "6. NA\n",
       "7. NA\n",
       "8. NA\n",
       "9. NA\n",
       "10. NA\n",
       "11. NA\n",
       "12. NA\n",
       "13. NA\n",
       "14. NA\n",
       "15. NA\n",
       "16. NA\n",
       "17. NA\n",
       "18. NA\n",
       "19. NA\n",
       "20. NA\n",
       "21. NA\n",
       "22. NA\n",
       "23. NA\n",
       "24. NA\n",
       "25. NA\n",
       "26. NA\n",
       "27. NA\n",
       "28. NA\n",
       "29. NA\n",
       "30. NA\n",
       "31. NA\n",
       "32. NA\n",
       "33. NA\n",
       "34. NA\n",
       "35. NA\n",
       "36. NA\n",
       "\n",
       "\n"
      ],
      "text/plain": [
       " [1] 3672897 5748092 7243028 8673267      NA      NA      NA      NA      NA\n",
       "[10]      NA      NA      NA      NA      NA      NA      NA      NA      NA\n",
       "[19]      NA      NA      NA      NA      NA      NA      NA      NA      NA\n",
       "[28]      NA      NA      NA      NA      NA      NA      NA      NA      NA"
      ]
     },
     "execution_count": 24,
     "metadata": {},
     "output_type": "execute_result"
    }
   ],
   "source": [
    "tabl * 30/0.00001"
   ]
  },
  {
   "cell_type": "markdown",
   "metadata": {},
   "source": [
    "That gives us something between 1.5 million and 3.6 million"
   ]
  },
  {
   "cell_type": "markdown",
   "metadata": {},
   "source": [
    "http://www.pnas.org/content/109/39/15716.full"
   ]
  },
  {
   "cell_type": "code",
   "execution_count": 18,
   "metadata": {
    "collapsed": false
   },
   "outputs": [
    {
     "data": {
      "text/html": [
       "<ol class=list-inline>\n",
       "\t<li>0</li>\n",
       "\t<li>1500000</li>\n",
       "\t<li>3e+06</li>\n",
       "\t<li>4500000</li>\n",
       "\t<li>6e+06</li>\n",
       "\t<li>7500000</li>\n",
       "\t<li>9e+06</li>\n",
       "\t<li>10500000</li>\n",
       "\t<li>1.2e+07</li>\n",
       "\t<li>13500000</li>\n",
       "\t<li>1.5e+07</li>\n",
       "\t<li>16500000</li>\n",
       "\t<li>1.8e+07</li>\n",
       "\t<li>19500000</li>\n",
       "\t<li>2.1e+07</li>\n",
       "\t<li>22500000</li>\n",
       "\t<li>2.4e+07</li>\n",
       "\t<li>25500000</li>\n",
       "\t<li>2.7e+07</li>\n",
       "\t<li>28500000</li>\n",
       "\t<li>3e+07</li>\n",
       "\t<li>31500000</li>\n",
       "\t<li>3.3e+07</li>\n",
       "\t<li>34500000</li>\n",
       "\t<li>3.6e+07</li>\n",
       "\t<li>37500000</li>\n",
       "\t<li>3.9e+07</li>\n",
       "\t<li>40500000</li>\n",
       "\t<li>4.2e+07</li>\n",
       "\t<li>43500000</li>\n",
       "\t<li>4.5e+07</li>\n",
       "\t<li>46500000</li>\n",
       "\t<li>4.8e+07</li>\n",
       "\t<li>49500000</li>\n",
       "\t<li>5.1e+07</li>\n",
       "\t<li>52500000</li>\n",
       "</ol>\n"
      ],
      "text/latex": [
       "\\begin{enumerate*}\n",
       "\\item 0\n",
       "\\item 1500000\n",
       "\\item 3e+06\n",
       "\\item 4500000\n",
       "\\item 6e+06\n",
       "\\item 7500000\n",
       "\\item 9e+06\n",
       "\\item 10500000\n",
       "\\item 1.2e+07\n",
       "\\item 13500000\n",
       "\\item 1.5e+07\n",
       "\\item 16500000\n",
       "\\item 1.8e+07\n",
       "\\item 19500000\n",
       "\\item 2.1e+07\n",
       "\\item 22500000\n",
       "\\item 2.4e+07\n",
       "\\item 25500000\n",
       "\\item 2.7e+07\n",
       "\\item 28500000\n",
       "\\item 3e+07\n",
       "\\item 31500000\n",
       "\\item 3.3e+07\n",
       "\\item 34500000\n",
       "\\item 3.6e+07\n",
       "\\item 37500000\n",
       "\\item 3.9e+07\n",
       "\\item 40500000\n",
       "\\item 4.2e+07\n",
       "\\item 43500000\n",
       "\\item 4.5e+07\n",
       "\\item 46500000\n",
       "\\item 4.8e+07\n",
       "\\item 49500000\n",
       "\\item 5.1e+07\n",
       "\\item 52500000\n",
       "\\end{enumerate*}\n"
      ],
      "text/markdown": [
       "1. 0\n",
       "2. 1500000\n",
       "3. 3e+06\n",
       "4. 4500000\n",
       "5. 6e+06\n",
       "6. 7500000\n",
       "7. 9e+06\n",
       "8. 10500000\n",
       "9. 1.2e+07\n",
       "10. 13500000\n",
       "11. 1.5e+07\n",
       "12. 16500000\n",
       "13. 1.8e+07\n",
       "14. 19500000\n",
       "15. 2.1e+07\n",
       "16. 22500000\n",
       "17. 2.4e+07\n",
       "18. 25500000\n",
       "19. 2.7e+07\n",
       "20. 28500000\n",
       "21. 3e+07\n",
       "22. 31500000\n",
       "23. 3.3e+07\n",
       "24. 34500000\n",
       "25. 3.6e+07\n",
       "26. 37500000\n",
       "27. 3.9e+07\n",
       "28. 40500000\n",
       "29. 4.2e+07\n",
       "30. 43500000\n",
       "31. 4.5e+07\n",
       "32. 46500000\n",
       "33. 4.8e+07\n",
       "34. 49500000\n",
       "35. 5.1e+07\n",
       "36. 52500000\n",
       "\n",
       "\n"
      ],
      "text/plain": [
       " [1]        0  1500000  3000000  4500000  6000000  7500000  9000000 10500000\n",
       " [9] 12000000 13500000 15000000 16500000 18000000 19500000 21000000 22500000\n",
       "[17] 24000000 25500000 27000000 28500000 30000000 31500000 33000000 34500000\n",
       "[25] 36000000 37500000 39000000 40500000 42000000 43500000 45000000 46500000\n",
       "[33] 48000000 49500000 51000000 52500000"
      ]
     },
     "execution_count": 18,
     "metadata": {},
     "output_type": "execute_result"
    }
   ],
   "source": [
    "minPt:maxPt / 0.00002 * 30"
   ]
  },
  {
   "cell_type": "code",
   "execution_count": 23,
   "metadata": {
    "collapsed": false
   },
   "outputs": [
    {
     "data": {
      "text/html": [
       "2.73724295506474"
      ],
      "text/latex": [
       "2.73724295506474"
      ],
      "text/markdown": [
       "2.73724295506474"
      ],
      "text/plain": [
       "[1] 2.737243"
      ]
     },
     "execution_count": 23,
     "metadata": {},
     "output_type": "execute_result"
    }
   ],
   "source": [
    "sum(minPt:maxPt * mx)/sum(mx)"
   ]
  },
  {
   "cell_type": "code",
   "execution_count": 22,
   "metadata": {
    "collapsed": false
   },
   "outputs": [
    {
     "data": {
      "text/html": [
       "<ol class=list-inline>\n",
       "\t<li>0</li>\n",
       "\t<li>262</li>\n",
       "\t<li>502</li>\n",
       "\t<li>606</li>\n",
       "\t<li>584</li>\n",
       "\t<li>490</li>\n",
       "\t<li>276</li>\n",
       "\t<li>189</li>\n",
       "\t<li>256</li>\n",
       "\t<li>90</li>\n",
       "\t<li>70</li>\n",
       "\t<li>66</li>\n",
       "\t<li>24</li>\n",
       "\t<li>39</li>\n",
       "\t<li>14</li>\n",
       "\t<li>30</li>\n",
       "\t<li>16</li>\n",
       "\t<li>0</li>\n",
       "\t<li>0</li>\n",
       "\t<li>19</li>\n",
       "\t<li>0</li>\n",
       "\t<li>0</li>\n",
       "\t<li>0</li>\n",
       "\t<li>0</li>\n",
       "\t<li>0</li>\n",
       "\t<li>0</li>\n",
       "\t<li>26</li>\n",
       "\t<li>0</li>\n",
       "\t<li>0</li>\n",
       "\t<li>0</li>\n",
       "\t<li>0</li>\n",
       "\t<li>0</li>\n",
       "\t<li>0</li>\n",
       "\t<li>0</li>\n",
       "\t<li>0</li>\n",
       "\t<li>35</li>\n",
       "</ol>\n"
      ],
      "text/latex": [
       "\\begin{enumerate*}\n",
       "\\item 0\n",
       "\\item 262\n",
       "\\item 502\n",
       "\\item 606\n",
       "\\item 584\n",
       "\\item 490\n",
       "\\item 276\n",
       "\\item 189\n",
       "\\item 256\n",
       "\\item 90\n",
       "\\item 70\n",
       "\\item 66\n",
       "\\item 24\n",
       "\\item 39\n",
       "\\item 14\n",
       "\\item 30\n",
       "\\item 16\n",
       "\\item 0\n",
       "\\item 0\n",
       "\\item 19\n",
       "\\item 0\n",
       "\\item 0\n",
       "\\item 0\n",
       "\\item 0\n",
       "\\item 0\n",
       "\\item 0\n",
       "\\item 26\n",
       "\\item 0\n",
       "\\item 0\n",
       "\\item 0\n",
       "\\item 0\n",
       "\\item 0\n",
       "\\item 0\n",
       "\\item 0\n",
       "\\item 0\n",
       "\\item 35\n",
       "\\end{enumerate*}\n"
      ],
      "text/markdown": [
       "1. 0\n",
       "2. 262\n",
       "3. 502\n",
       "4. 606\n",
       "5. 584\n",
       "6. 490\n",
       "7. 276\n",
       "8. 189\n",
       "9. 256\n",
       "10. 90\n",
       "11. 70\n",
       "12. 66\n",
       "13. 24\n",
       "14. 39\n",
       "15. 14\n",
       "16. 30\n",
       "17. 16\n",
       "18. 0\n",
       "19. 0\n",
       "20. 19\n",
       "21. 0\n",
       "22. 0\n",
       "23. 0\n",
       "24. 0\n",
       "25. 0\n",
       "26. 0\n",
       "27. 26\n",
       "28. 0\n",
       "29. 0\n",
       "30. 0\n",
       "31. 0\n",
       "32. 0\n",
       "33. 0\n",
       "34. 0\n",
       "35. 0\n",
       "36. 35\n",
       "\n",
       "\n"
      ],
      "text/plain": [
       " [1]   0 262 502 606 584 490 276 189 256  90  70  66  24  39  14  30  16   0   0\n",
       "[20]  19   0   0   0   0   0   0  26   0   0   0   0   0   0   0   0  35"
      ]
     },
     "execution_count": 22,
     "metadata": {},
     "output_type": "execute_result"
    }
   ],
   "source": [
    "minPt:maxPt * mx"
   ]
  },
  {
   "cell_type": "markdown",
   "metadata": {},
   "source": [
    "take into consideration included in restrictive data set\n",
    "look at genes that have more base pairs in nielsen than in cassa\n",
    "\n",
    "Merged=Merged[Merged['bp'] < 20000]\n",
    "\n",
    "Choose some L, for example 500 bp(might want to be shorter if illustrating diff with Tang), then remove all genes that have too high or too low a mutation rate.\n",
    "\n",
    "million base pairs could be smaller.  because you’re waiting a long time for chimps and humans before they come back together.  million base pairs is for humans.\n",
    "\n",
    "Ne for humans is 10 000\n",
    "\n",
    "\n",
    "Remove N, R, Y, (X, ?) always removed.\n",
    "if you’re skipping over base pairs, then recombination rate will be higher\n",
    "\n",
    "Ralph comment, looking at some kind of average\n",
    "\n",
    "chimp genome paper, line up chimp genome and humans genome and count all differences.  so they’re taking the average across sites.\n",
    "\n",
    "In paper John sent, references chimp genome paper.  There are going to be whole genome estimates of divergence time between humans and chimps.\n",
    "\n",
    "Ask Cassa\n",
    "Let's say missense mutations are highly constrained.  You should just be using synon mutation rate at the genes.  It might be 2/3 of current mutation rate you are using."
   ]
  },
  {
   "cell_type": "markdown",
   "metadata": {
    "collapsed": true
   },
   "source": [
    "chimp genome paper, line up chimp genome and humans genome and count all differences.  so they’re taking the average across sites.\n",
    "\n",
    "If you’re looking for simply average divergence time, doesn’t it make sense to shuffle up nucleotides?  That should give you mean divergence.  and you would have a more accurate mutation rate because it would be an average.\n",
    "\n",
    "Really the method should be used when you’re trying to measure the TMRCA of a single ancestor, no?  Or maybe it’s worth saying that it gives you about the right mean, but then that we have better results for estimating the particular time at different genes, like genes with 0, 1, 2, etc mutations.\n",
    "\n",
    "but then because of issue of recombination, it’s somewhat equivalent to the composite idea.  "
   ]
  },
  {
   "cell_type": "code",
   "execution_count": null,
   "metadata": {
    "collapsed": true
   },
   "outputs": [],
   "source": []
  }
 ],
 "metadata": {
  "kernelspec": {
   "display_name": "R",
   "language": "R",
   "name": "ir"
  },
  "language_info": {
   "codemirror_mode": "r",
   "file_extension": ".r",
   "mimetype": "text/x-r-source",
   "name": "R",
   "pygments_lexer": "r",
   "version": "3.2.2"
  }
 },
 "nbformat": 4,
 "nbformat_minor": 0
}
