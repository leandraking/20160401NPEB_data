{
 "cells": [
  {
   "cell_type": "code",
   "execution_count": 41,
   "metadata": {
    "collapsed": false
   },
   "outputs": [],
   "source": [
    "%matplotlib inline\n",
    "\n",
    "import pandas as pd\n",
    "import matplotlib.pyplot as plt\n",
    "import numpy as np\n",
    "\n",
    "pd.set_option('display.width', 500)\n",
    "pd.set_option('display.max_columns', 100)\n",
    "pd.set_option('display.notebook_repr_html', True)\n",
    "import seaborn as sns\n",
    "sns.set_style(\"whitegrid\")\n",
    "sns.set_context(\"poster\")"
   ]
  },
  {
   "cell_type": "markdown",
   "metadata": {},
   "source": [
    "Load Nielsen table"
   ]
  },
  {
   "cell_type": "code",
   "execution_count": 42,
   "metadata": {
    "collapsed": false
   },
   "outputs": [
    {
     "data": {
      "text/html": [
       "<div>\n",
       "<table border=\"1\" class=\"dataframe\">\n",
       "  <thead>\n",
       "    <tr style=\"text-align: right;\">\n",
       "      <th></th>\n",
       "      <th>Gene</th>\n",
       "      <th>ENS ref</th>\n",
       "      <th>refseq match</th>\n",
       "      <th>gene symbol</th>\n",
       "      <th># nucleotides</th>\n",
       "      <th>log likelihood dN/dS &gt;= 0</th>\n",
       "      <th>log likelihood dN/dS=1</th>\n",
       "      <th>p-value for likelihood ratio test of dN/dS=1 versus dN/dS &gt; 1.  Test not performed for data genes with 2 mutations or less or less than 50 codons. p=1 indicates that dN/dS &lt; 1.</th>\n",
       "      <th>included in restrictive data set?</th>\n",
       "    </tr>\n",
       "  </thead>\n",
       "  <tbody>\n",
       "    <tr>\n",
       "      <th>0</th>\n",
       "      <td>HC1</td>\n",
       "      <td>ENSG00000173275</td>\n",
       "      <td>NM_152695</td>\n",
       "      <td>FLJ23614</td>\n",
       "      <td>1344</td>\n",
       "      <td>-1815.840</td>\n",
       "      <td>-1816.840</td>\n",
       "      <td>1</td>\n",
       "      <td>yes</td>\n",
       "    </tr>\n",
       "    <tr>\n",
       "      <th>1</th>\n",
       "      <td>HC2</td>\n",
       "      <td>NaN</td>\n",
       "      <td>XM_045283</td>\n",
       "      <td>NaN</td>\n",
       "      <td>477</td>\n",
       "      <td>-635.394</td>\n",
       "      <td>-635.745</td>\n",
       "      <td>NaN</td>\n",
       "      <td>no</td>\n",
       "    </tr>\n",
       "    <tr>\n",
       "      <th>2</th>\n",
       "      <td>HC3</td>\n",
       "      <td>ENSG00000082898</td>\n",
       "      <td>NM_003400</td>\n",
       "      <td>XPO1</td>\n",
       "      <td>1377</td>\n",
       "      <td>-1841.790</td>\n",
       "      <td>-1845.380</td>\n",
       "      <td>1</td>\n",
       "      <td>yes</td>\n",
       "    </tr>\n",
       "    <tr>\n",
       "      <th>3</th>\n",
       "      <td>HC4</td>\n",
       "      <td>ENSG00000132153</td>\n",
       "      <td>NM_014966,NM_138615</td>\n",
       "      <td>DDX30</td>\n",
       "      <td>2718</td>\n",
       "      <td>-3595.940</td>\n",
       "      <td>-3603.100</td>\n",
       "      <td>1</td>\n",
       "      <td>yes</td>\n",
       "    </tr>\n",
       "    <tr>\n",
       "      <th>4</th>\n",
       "      <td>HC5</td>\n",
       "      <td>ENSG00000174417</td>\n",
       "      <td>NM_003301</td>\n",
       "      <td>TRHR</td>\n",
       "      <td>1185</td>\n",
       "      <td>-1626.170</td>\n",
       "      <td>-1632.150</td>\n",
       "      <td>1</td>\n",
       "      <td>yes</td>\n",
       "    </tr>\n",
       "  </tbody>\n",
       "</table>\n",
       "</div>"
      ],
      "text/plain": [
       "  Gene          ENS ref         refseq match gene symbol  # nucleotides  log likelihood dN/dS >= 0  log likelihood dN/dS=1  p-value for likelihood ratio test of dN/dS=1 versus dN/dS > 1.  Test not performed for data genes with 2 mutations or less or less than 50 codons. p=1 indicates that dN/dS < 1. included in restrictive data set?\n",
       "0  HC1  ENSG00000173275            NM_152695    FLJ23614           1344                  -1815.840               -1816.840                                                  1                                                                                                                                                              yes\n",
       "1  HC2              NaN            XM_045283         NaN            477                   -635.394                -635.745                                                NaN                                                                                                                                                               no\n",
       "2  HC3  ENSG00000082898            NM_003400        XPO1           1377                  -1841.790               -1845.380                                                  1                                                                                                                                                              yes\n",
       "3  HC4  ENSG00000132153  NM_014966,NM_138615       DDX30           2718                  -3595.940               -3603.100                                                  1                                                                                                                                                              yes\n",
       "4  HC5  ENSG00000174417            NM_003301        TRHR           1185                  -1626.170               -1632.150                                                  1                                                                                                                                                              yes"
      ]
     },
     "execution_count": 42,
     "metadata": {},
     "output_type": "execute_result"
    }
   ],
   "source": [
    "#Load Nielsen table\n",
    "NielsenKey = pd.read_excel(\"../../Downloads/journal.pbio.0030170.sd001.XLS\")\n",
    "NielsenKey.head()"
   ]
  },
  {
   "cell_type": "code",
   "execution_count": 43,
   "metadata": {
    "collapsed": false
   },
   "outputs": [
    {
     "name": "stdout",
     "output_type": "stream",
     "text": [
      "(20362, 4) shape before NAs dropped\n",
      "(12887, 4) shape after NAs dropped\n"
     ]
    },
    {
     "data": {
      "text/html": [
       "<div>\n",
       "<table border=\"1\" class=\"dataframe\">\n",
       "  <thead>\n",
       "    <tr style=\"text-align: right;\">\n",
       "      <th></th>\n",
       "      <th>Gene</th>\n",
       "      <th>gene symbol</th>\n",
       "      <th># nucleotides</th>\n",
       "      <th>included in restrictive data set?</th>\n",
       "    </tr>\n",
       "  </thead>\n",
       "  <tbody>\n",
       "    <tr>\n",
       "      <th>0</th>\n",
       "      <td>HC1</td>\n",
       "      <td>FLJ23614</td>\n",
       "      <td>1344</td>\n",
       "      <td>yes</td>\n",
       "    </tr>\n",
       "    <tr>\n",
       "      <th>2</th>\n",
       "      <td>HC3</td>\n",
       "      <td>XPO1</td>\n",
       "      <td>1377</td>\n",
       "      <td>yes</td>\n",
       "    </tr>\n",
       "    <tr>\n",
       "      <th>3</th>\n",
       "      <td>HC4</td>\n",
       "      <td>DDX30</td>\n",
       "      <td>2718</td>\n",
       "      <td>yes</td>\n",
       "    </tr>\n",
       "    <tr>\n",
       "      <th>4</th>\n",
       "      <td>HC5</td>\n",
       "      <td>TRHR</td>\n",
       "      <td>1185</td>\n",
       "      <td>yes</td>\n",
       "    </tr>\n",
       "    <tr>\n",
       "      <th>5</th>\n",
       "      <td>HC6</td>\n",
       "      <td>ATP6V1C1</td>\n",
       "      <td>1107</td>\n",
       "      <td>yes</td>\n",
       "    </tr>\n",
       "  </tbody>\n",
       "</table>\n",
       "</div>"
      ],
      "text/plain": [
       "  Gene gene symbol  # nucleotides included in restrictive data set?\n",
       "0  HC1    FLJ23614           1344                               yes\n",
       "2  HC3        XPO1           1377                               yes\n",
       "3  HC4       DDX30           2718                               yes\n",
       "4  HC5        TRHR           1185                               yes\n",
       "5  HC6    ATP6V1C1           1107                               yes"
      ]
     },
     "execution_count": 43,
     "metadata": {},
     "output_type": "execute_result"
    }
   ],
   "source": [
    "#dropping columns that we don't need \n",
    "NielsenKey = NielsenKey[['Gene','gene symbol','# nucleotides', 'included in restrictive data set?']]\n",
    "#dropping rows with Na in gene symbol\n",
    "print NielsenKey.shape, \"shape before NAs dropped\"\n",
    "NielsenKey = NielsenKey.dropna(subset=[\"gene symbol\"])\n",
    "print NielsenKey.shape, \"shape after NAs dropped\"\n",
    "#(We decide not to remove duplicates because we have proxy of mutation rate for all pieces)\n",
    "#NielsenKey = NielsenKey.drop_duplicates(subset = 'gene symbol', keep=False)\n",
    "#print NielsenKey.shape, \"shape after genes with duplicate names dropped\"\n",
    "NielsenKey.head()"
   ]
  },
  {
   "cell_type": "markdown",
   "metadata": {},
   "source": [
    "Load Cassa table"
   ]
  },
  {
   "cell_type": "code",
   "execution_count": 85,
   "metadata": {
    "collapsed": false
   },
   "outputs": [
    {
     "name": "stdout",
     "output_type": "stream",
     "text": [
      "(18225, 10)\n"
     ]
    },
    {
     "data": {
      "text/html": [
       "<div>\n",
       "<table border=\"1\" class=\"dataframe\">\n",
       "  <thead>\n",
       "    <tr style=\"text-align: right;\">\n",
       "      <th></th>\n",
       "      <th>transcript</th>\n",
       "      <th>gene symbol</th>\n",
       "      <th>chr</th>\n",
       "      <th>n_exons</th>\n",
       "      <th>tx_start</th>\n",
       "      <th>tx_end</th>\n",
       "      <th>bp</th>\n",
       "      <th>mu_syn</th>\n",
       "      <th>mu_mis</th>\n",
       "      <th>mu_lof</th>\n",
       "    </tr>\n",
       "  </thead>\n",
       "  <tbody>\n",
       "    <tr>\n",
       "      <th>0</th>\n",
       "      <td>ENST00000379370.2</td>\n",
       "      <td>AGRN</td>\n",
       "      <td>1</td>\n",
       "      <td>36</td>\n",
       "      <td>955552</td>\n",
       "      <td>990361</td>\n",
       "      <td>6138</td>\n",
       "      <td>0.000055</td>\n",
       "      <td>0.000102</td>\n",
       "      <td>4.848279e-06</td>\n",
       "    </tr>\n",
       "    <tr>\n",
       "      <th>1</th>\n",
       "      <td>ENST00000327044.6</td>\n",
       "      <td>NOC2L</td>\n",
       "      <td>1</td>\n",
       "      <td>19</td>\n",
       "      <td>880073</td>\n",
       "      <td>894620</td>\n",
       "      <td>2250</td>\n",
       "      <td>0.000014</td>\n",
       "      <td>0.000029</td>\n",
       "      <td>2.065329e-06</td>\n",
       "    </tr>\n",
       "    <tr>\n",
       "      <th>2</th>\n",
       "      <td>ENST00000379198.2</td>\n",
       "      <td>B3GALT6</td>\n",
       "      <td>1</td>\n",
       "      <td>1</td>\n",
       "      <td>1167658</td>\n",
       "      <td>1168648</td>\n",
       "      <td>990</td>\n",
       "      <td>0.000014</td>\n",
       "      <td>0.000024</td>\n",
       "      <td>4.561960e-07</td>\n",
       "    </tr>\n",
       "    <tr>\n",
       "      <th>3</th>\n",
       "      <td>ENST00000421241.2</td>\n",
       "      <td>C1orf159</td>\n",
       "      <td>1</td>\n",
       "      <td>8</td>\n",
       "      <td>1018272</td>\n",
       "      <td>1026923</td>\n",
       "      <td>597</td>\n",
       "      <td>0.000005</td>\n",
       "      <td>0.000010</td>\n",
       "      <td>5.878979e-07</td>\n",
       "    </tr>\n",
       "    <tr>\n",
       "      <th>4</th>\n",
       "      <td>ENST00000379389.4</td>\n",
       "      <td>ISG15</td>\n",
       "      <td>1</td>\n",
       "      <td>2</td>\n",
       "      <td>948953</td>\n",
       "      <td>949858</td>\n",
       "      <td>498</td>\n",
       "      <td>0.000004</td>\n",
       "      <td>0.000007</td>\n",
       "      <td>2.358722e-07</td>\n",
       "    </tr>\n",
       "  </tbody>\n",
       "</table>\n",
       "</div>"
      ],
      "text/plain": [
       "          transcript gene symbol chr  n_exons  tx_start   tx_end    bp    mu_syn    mu_mis        mu_lof\n",
       "0  ENST00000379370.2        AGRN   1       36    955552   990361  6138  0.000055  0.000102  4.848279e-06\n",
       "1  ENST00000327044.6       NOC2L   1       19    880073   894620  2250  0.000014  0.000029  2.065329e-06\n",
       "2  ENST00000379198.2     B3GALT6   1        1   1167658  1168648   990  0.000014  0.000024  4.561960e-07\n",
       "3  ENST00000421241.2    C1orf159   1        8   1018272  1026923   597  0.000005  0.000010  5.878979e-07\n",
       "4  ENST00000379389.4       ISG15   1        2    948953   949858   498  0.000004  0.000007  2.358722e-07"
      ]
     },
     "execution_count": 85,
     "metadata": {},
     "output_type": "execute_result"
    }
   ],
   "source": [
    "CassaTable = pd.read_excel(\"../../Downloads/Leandra.xlsx\")\n",
    "CassaTable.columns = ['transcript', 'gene symbol', 'chr', 'n_exons', 'tx_start', 'tx_end','bp', 'mu_syn', 'mu_mis','mu_lof']\n",
    "print CassaTable.shape\n",
    "#CassaTable.drop_duplicates(subset = \"gene symbol\", keep =False)\n",
    "#print CassaTable.shape\n",
    "CassaTable.head()"
   ]
  },
  {
   "cell_type": "markdown",
   "metadata": {},
   "source": [
    "Next, we check to see how mu_syn and mu_mis are related to each other.  mu_syn is about 45% of mu_mis.    This is a little bit less than a  1 to 2 ratio."
   ]
  },
  {
   "cell_type": "code",
   "execution_count": 89,
   "metadata": {
    "collapsed": false
   },
   "outputs": [
    {
     "data": {
      "image/png": "[encoded data removed]",
      "text/plain": [
       "<matplotlib.figure.Figure at 0x11bbcadd0>"
      ]
     },
     "metadata": {},
     "output_type": "display_data"
    },
    {
     "data": {
      "image/png": "[encoded data removed]",
      "text/plain": [
       "<matplotlib.figure.Figure at 0x11041cf10>"
      ]
     },
     "metadata": {},
     "output_type": "display_data"
    }
   ],
   "source": [
    "CassaTable[\"mu_non_syn\"] = CassaTable[\"mu_mis\"] + CassaTable[\"mu_lof\"]\n",
    "\n",
    "_=plt.scatter(CassaTable.mu_syn, CassaTable.mu_mis)\n",
    "plt.ylim(0,0.001)\n",
    "plt.xlim(0,0.001)\n",
    "plt.xlabel(\"mu_syn\")\n",
    "plt.ylabel(\"mu_mis\")\n",
    "plt.show()\n",
    "\n",
    "plt.figure()\n",
    "_=plt.scatter(CassaTable.mu_syn, CassaTable.mu_non_syn)\n",
    "plt.ylim(0,0.001)\n",
    "plt.xlim(0,0.001)\n",
    "plt.xlabel(\"mu_syn\")\n",
    "plt.ylabel(\"mu_nonsyn\")\n",
    "plt.show()\n",
    "\n"
   ]
  },
  {
   "cell_type": "code",
   "execution_count": 87,
   "metadata": {
    "collapsed": false
   },
   "outputs": [
    {
     "name": "stdout",
     "output_type": "stream",
     "text": [
      "mu_non_syn    0.416054\n",
      "dtype: float64\n",
      "                            OLS Regression Results                            \n",
      "==============================================================================\n",
      "Dep. Variable:                 mu_syn   R-squared:                       0.978\n",
      "Model:                            OLS   Adj. R-squared:                  0.978\n",
      "Method:                 Least Squares   F-statistic:                 8.229e+05\n",
      "Date:                Tue, 19 Apr 2016   Prob (F-statistic):               0.00\n",
      "Time:                        15:28:52   Log-Likelihood:             2.1583e+05\n",
      "No. Observations:               18225   AIC:                        -4.317e+05\n",
      "Df Residuals:                   18224   BIC:                        -4.316e+05\n",
      "Df Model:                           1                                         \n",
      "Covariance Type:            nonrobust                                         \n",
      "==============================================================================\n",
      "                 coef    std err          t      P>|t|      [95.0% Conf. Int.]\n",
      "------------------------------------------------------------------------------\n",
      "mu_non_syn     0.4161      0.000    907.128      0.000         0.415     0.417\n",
      "==============================================================================\n",
      "Omnibus:                     8908.807   Durbin-Watson:                   1.655\n",
      "Prob(Omnibus):                  0.000   Jarque-Bera (JB):          5026545.535\n",
      "Skew:                          -0.980   Prob(JB):                         0.00\n",
      "Kurtosis:                      84.336   Cond. No.                         1.00\n",
      "==============================================================================\n",
      "\n",
      "Warnings:\n",
      "[1] Standard Errors assume that the covariance matrix of the errors is correctly specified.\n"
     ]
    }
   ],
   "source": [
    "import statsmodels.formula.api as sm\n",
    "result = sm.ols(formula=\"mu_syn ~ 0 + mu_non_syn\", data=CassaTable).fit()\n",
    "print result.params\n",
    "print result.summary()"
   ]
  },
  {
   "cell_type": "markdown",
   "metadata": {},
   "source": [
    "Keep only rows in both tables that have info about same genes. Scatter number of base pairs from both datasets."
   ]
  },
  {
   "cell_type": "code",
   "execution_count": 47,
   "metadata": {
    "collapsed": false
   },
   "outputs": [
    {
     "name": "stdout",
     "output_type": "stream",
     "text": [
      "(7691, 13)\n"
     ]
    },
    {
     "data": {
      "text/html": [
       "<div>\n",
       "<table border=\"1\" class=\"dataframe\">\n",
       "  <thead>\n",
       "    <tr style=\"text-align: right;\">\n",
       "      <th></th>\n",
       "      <th>Gene</th>\n",
       "      <th>gene symbol</th>\n",
       "      <th># nucleotides</th>\n",
       "      <th>included in restrictive data set?</th>\n",
       "      <th>transcript</th>\n",
       "      <th>chr</th>\n",
       "      <th>n_exons</th>\n",
       "      <th>tx_start</th>\n",
       "      <th>tx_end</th>\n",
       "      <th>bp</th>\n",
       "      <th>mu_syn</th>\n",
       "      <th>mu_mis</th>\n",
       "      <th>mu_lof</th>\n",
       "    </tr>\n",
       "  </thead>\n",
       "  <tbody>\n",
       "    <tr>\n",
       "      <th>0</th>\n",
       "      <td>HC3</td>\n",
       "      <td>XPO1</td>\n",
       "      <td>1377</td>\n",
       "      <td>yes</td>\n",
       "      <td>ENST00000401558.2</td>\n",
       "      <td>2</td>\n",
       "      <td>24</td>\n",
       "      <td>61705954</td>\n",
       "      <td>61761032</td>\n",
       "      <td>3216</td>\n",
       "      <td>0.000010</td>\n",
       "      <td>0.000026</td>\n",
       "      <td>2.820521e-06</td>\n",
       "    </tr>\n",
       "    <tr>\n",
       "      <th>1</th>\n",
       "      <td>HC5</td>\n",
       "      <td>TRHR</td>\n",
       "      <td>1185</td>\n",
       "      <td>yes</td>\n",
       "      <td>ENST00000518632.1</td>\n",
       "      <td>8</td>\n",
       "      <td>2</td>\n",
       "      <td>110099741</td>\n",
       "      <td>110131684</td>\n",
       "      <td>1197</td>\n",
       "      <td>0.000004</td>\n",
       "      <td>0.000009</td>\n",
       "      <td>5.842953e-07</td>\n",
       "    </tr>\n",
       "    <tr>\n",
       "      <th>2</th>\n",
       "      <td>HC6</td>\n",
       "      <td>ATP6V1C1</td>\n",
       "      <td>1107</td>\n",
       "      <td>yes</td>\n",
       "      <td>ENST00000395862.3</td>\n",
       "      <td>8</td>\n",
       "      <td>12</td>\n",
       "      <td>104053064</td>\n",
       "      <td>104080975</td>\n",
       "      <td>1149</td>\n",
       "      <td>0.000004</td>\n",
       "      <td>0.000009</td>\n",
       "      <td>1.228297e-06</td>\n",
       "    </tr>\n",
       "    <tr>\n",
       "      <th>3</th>\n",
       "      <td>HC7</td>\n",
       "      <td>KCNV1</td>\n",
       "      <td>1356</td>\n",
       "      <td>yes</td>\n",
       "      <td>ENST00000524391.1</td>\n",
       "      <td>8</td>\n",
       "      <td>3</td>\n",
       "      <td>110980316</td>\n",
       "      <td>110986617</td>\n",
       "      <td>1503</td>\n",
       "      <td>0.000009</td>\n",
       "      <td>0.000018</td>\n",
       "      <td>7.860640e-07</td>\n",
       "    </tr>\n",
       "    <tr>\n",
       "      <th>4</th>\n",
       "      <td>HC8</td>\n",
       "      <td>RIMS2</td>\n",
       "      <td>2253</td>\n",
       "      <td>yes</td>\n",
       "      <td>ENST00000406091.3</td>\n",
       "      <td>8</td>\n",
       "      <td>24</td>\n",
       "      <td>104513114</td>\n",
       "      <td>105264048</td>\n",
       "      <td>4050</td>\n",
       "      <td>0.000014</td>\n",
       "      <td>0.000041</td>\n",
       "      <td>4.881915e-06</td>\n",
       "    </tr>\n",
       "  </tbody>\n",
       "</table>\n",
       "</div>"
      ],
      "text/plain": [
       "  Gene gene symbol  # nucleotides included in restrictive data set?         transcript chr  n_exons   tx_start     tx_end    bp    mu_syn    mu_mis        mu_lof\n",
       "0  HC3        XPO1           1377                               yes  ENST00000401558.2   2       24   61705954   61761032  3216  0.000010  0.000026  2.820521e-06\n",
       "1  HC5        TRHR           1185                               yes  ENST00000518632.1   8        2  110099741  110131684  1197  0.000004  0.000009  5.842953e-07\n",
       "2  HC6    ATP6V1C1           1107                               yes  ENST00000395862.3   8       12  104053064  104080975  1149  0.000004  0.000009  1.228297e-06\n",
       "3  HC7       KCNV1           1356                               yes  ENST00000524391.1   8        3  110980316  110986617  1503  0.000009  0.000018  7.860640e-07\n",
       "4  HC8       RIMS2           2253                               yes  ENST00000406091.3   8       24  104513114  105264048  4050  0.000014  0.000041  4.881915e-06"
      ]
     },
     "execution_count": 47,
     "metadata": {},
     "output_type": "execute_result"
    }
   ],
   "source": [
    "Merged = pd.merge(NielsenKey, CassaTable, on = ['gene symbol'])\n",
    "print Merged.shape\n",
    "Merged.head()"
   ]
  },
  {
   "cell_type": "code",
   "execution_count": 48,
   "metadata": {
    "collapsed": false
   },
   "outputs": [],
   "source": [
    "#Deleting dataframes that were used for pre-processing\n",
    "del NielsenKey\n",
    "del CassaTable"
   ]
  },
  {
   "cell_type": "code",
   "execution_count": 49,
   "metadata": {
    "collapsed": false
   },
   "outputs": [
    {
     "data": {
      "text/plain": [
       "[<matplotlib.lines.Line2D at 0x11032aa90>]"
      ]
     },
     "execution_count": 49,
     "metadata": {},
     "output_type": "execute_result"
    },
    {
     "data": {
      "image/png": "[encoded data removed]",
      "text/plain": [
       "<matplotlib.figure.Figure at 0x11032a410>"
      ]
     },
     "metadata": {},
     "output_type": "display_data"
    }
   ],
   "source": [
    "plt.scatter(Merged['# nucleotides'], Merged['bp'])\n",
    "plt.xlabel(\"Nielsen Table\")\n",
    "plt.ylabel(\"Cassa Table\")\n",
    "plt.plot([0, 20000], [0, 20000], color='red', linestyle='-', linewidth=2)"
   ]
  },
  {
   "cell_type": "markdown",
   "metadata": {},
   "source": [
    "It's okay that the number of base pairs for each pair, cause you only need the estimates of mu from the cassa dataset.  Regardless, we remove the outlying points from the table, as well as any points where the number of base pairs is too small."
   ]
  },
  {
   "cell_type": "code",
   "execution_count": 50,
   "metadata": {
    "collapsed": false
   },
   "outputs": [],
   "source": [
    "Merged=Merged[Merged['bp'] < 20000]\n",
    "Merged=Merged[Merged['bp'] > 50]\n",
    "Merged = Merged[Merged['# nucleotides'] > 50]"
   ]
  },
  {
   "cell_type": "code",
   "execution_count": 51,
   "metadata": {
    "collapsed": false
   },
   "outputs": [
    {
     "data": {
      "text/plain": [
       "[<matplotlib.lines.Line2D at 0x10e19ac10>]"
      ]
     },
     "execution_count": 51,
     "metadata": {},
     "output_type": "execute_result"
    },
    {
     "data": {
      "image/png": "[encoded data removed]",
      "text/plain": [
       "<matplotlib.figure.Figure at 0x10e19a8d0>"
      ]
     },
     "metadata": {},
     "output_type": "display_data"
    }
   ],
   "source": [
    "_=plt.scatter(Merged['# nucleotides'], Merged['bp'])\n",
    "plt.xlabel(\"Nielsen Table\")\n",
    "plt.ylabel(\"Cassa Table\")\n",
    "plt.plot([0, 20000], [0, 20000], color='red', linestyle='-', linewidth=2)"
   ]
  },
  {
   "cell_type": "markdown",
   "metadata": {},
   "source": [
    "Add up different mutations rates"
   ]
  },
  {
   "cell_type": "code",
   "execution_count": 52,
   "metadata": {
    "collapsed": false
   },
   "outputs": [
    {
     "data": {
      "text/html": [
       "<div>\n",
       "<table border=\"1\" class=\"dataframe\">\n",
       "  <thead>\n",
       "    <tr style=\"text-align: right;\">\n",
       "      <th></th>\n",
       "      <th>Gene</th>\n",
       "      <th>gene symbol</th>\n",
       "      <th># nucleotides</th>\n",
       "      <th>included in restrictive data set?</th>\n",
       "      <th>transcript</th>\n",
       "      <th>chr</th>\n",
       "      <th>n_exons</th>\n",
       "      <th>tx_start</th>\n",
       "      <th>tx_end</th>\n",
       "      <th>bp</th>\n",
       "      <th>mu_syn</th>\n",
       "      <th>mu_mis</th>\n",
       "      <th>mu_lof</th>\n",
       "      <th>mu</th>\n",
       "    </tr>\n",
       "  </thead>\n",
       "  <tbody>\n",
       "    <tr>\n",
       "      <th>0</th>\n",
       "      <td>HC3</td>\n",
       "      <td>XPO1</td>\n",
       "      <td>1377</td>\n",
       "      <td>yes</td>\n",
       "      <td>ENST00000401558.2</td>\n",
       "      <td>2</td>\n",
       "      <td>24</td>\n",
       "      <td>61705954</td>\n",
       "      <td>61761032</td>\n",
       "      <td>3216</td>\n",
       "      <td>0.000010</td>\n",
       "      <td>0.000026</td>\n",
       "      <td>2.820521e-06</td>\n",
       "      <td>0.000039</td>\n",
       "    </tr>\n",
       "    <tr>\n",
       "      <th>1</th>\n",
       "      <td>HC5</td>\n",
       "      <td>TRHR</td>\n",
       "      <td>1185</td>\n",
       "      <td>yes</td>\n",
       "      <td>ENST00000518632.1</td>\n",
       "      <td>8</td>\n",
       "      <td>2</td>\n",
       "      <td>110099741</td>\n",
       "      <td>110131684</td>\n",
       "      <td>1197</td>\n",
       "      <td>0.000004</td>\n",
       "      <td>0.000009</td>\n",
       "      <td>5.842953e-07</td>\n",
       "      <td>0.000014</td>\n",
       "    </tr>\n",
       "    <tr>\n",
       "      <th>2</th>\n",
       "      <td>HC6</td>\n",
       "      <td>ATP6V1C1</td>\n",
       "      <td>1107</td>\n",
       "      <td>yes</td>\n",
       "      <td>ENST00000395862.3</td>\n",
       "      <td>8</td>\n",
       "      <td>12</td>\n",
       "      <td>104053064</td>\n",
       "      <td>104080975</td>\n",
       "      <td>1149</td>\n",
       "      <td>0.000004</td>\n",
       "      <td>0.000009</td>\n",
       "      <td>1.228297e-06</td>\n",
       "      <td>0.000014</td>\n",
       "    </tr>\n",
       "    <tr>\n",
       "      <th>3</th>\n",
       "      <td>HC7</td>\n",
       "      <td>KCNV1</td>\n",
       "      <td>1356</td>\n",
       "      <td>yes</td>\n",
       "      <td>ENST00000524391.1</td>\n",
       "      <td>8</td>\n",
       "      <td>3</td>\n",
       "      <td>110980316</td>\n",
       "      <td>110986617</td>\n",
       "      <td>1503</td>\n",
       "      <td>0.000009</td>\n",
       "      <td>0.000018</td>\n",
       "      <td>7.860640e-07</td>\n",
       "      <td>0.000028</td>\n",
       "    </tr>\n",
       "    <tr>\n",
       "      <th>4</th>\n",
       "      <td>HC8</td>\n",
       "      <td>RIMS2</td>\n",
       "      <td>2253</td>\n",
       "      <td>yes</td>\n",
       "      <td>ENST00000406091.3</td>\n",
       "      <td>8</td>\n",
       "      <td>24</td>\n",
       "      <td>104513114</td>\n",
       "      <td>105264048</td>\n",
       "      <td>4050</td>\n",
       "      <td>0.000014</td>\n",
       "      <td>0.000041</td>\n",
       "      <td>4.881915e-06</td>\n",
       "      <td>0.000060</td>\n",
       "    </tr>\n",
       "  </tbody>\n",
       "</table>\n",
       "</div>"
      ],
      "text/plain": [
       "  Gene gene symbol  # nucleotides included in restrictive data set?         transcript chr  n_exons   tx_start     tx_end    bp    mu_syn    mu_mis        mu_lof        mu\n",
       "0  HC3        XPO1           1377                               yes  ENST00000401558.2   2       24   61705954   61761032  3216  0.000010  0.000026  2.820521e-06  0.000039\n",
       "1  HC5        TRHR           1185                               yes  ENST00000518632.1   8        2  110099741  110131684  1197  0.000004  0.000009  5.842953e-07  0.000014\n",
       "2  HC6    ATP6V1C1           1107                               yes  ENST00000395862.3   8       12  104053064  104080975  1149  0.000004  0.000009  1.228297e-06  0.000014\n",
       "3  HC7       KCNV1           1356                               yes  ENST00000524391.1   8        3  110980316  110986617  1503  0.000009  0.000018  7.860640e-07  0.000028\n",
       "4  HC8       RIMS2           2253                               yes  ENST00000406091.3   8       24  104513114  105264048  4050  0.000014  0.000041  4.881915e-06  0.000060"
      ]
     },
     "execution_count": 52,
     "metadata": {},
     "output_type": "execute_result"
    }
   ],
   "source": [
    "Merged[\"mu\"]=Merged[\"mu_syn\"] + Merged[\"mu_lof\"] + Merged[\"mu_mis\"]\n",
    "Merged.head()"
   ]
  },
  {
   "cell_type": "markdown",
   "metadata": {},
   "source": [
    "Figure out if this is mu per nucleotide or mu per group of nucleotides"
   ]
  },
  {
   "cell_type": "code",
   "execution_count": 53,
   "metadata": {
    "collapsed": false
   },
   "outputs": [
    {
     "data": {
      "text/plain": [
       "(0, 20000)"
      ]
     },
     "execution_count": 53,
     "metadata": {},
     "output_type": "execute_result"
    },
    {
     "data": {
      "image/png": "[encoded data removed]",
      "text/plain": [
       "<matplotlib.figure.Figure at 0x11032a650>"
      ]
     },
     "metadata": {},
     "output_type": "display_data"
    }
   ],
   "source": [
    "plt.scatter(Merged[\"bp\"],Merged[\"mu\"])\n",
    "plt.xlabel(\"num base pairs\")\n",
    "plt.ylabel(\"mu\")\n",
    "plt.ylim([0,0.0005])\n",
    "plt.xlim([0,20000])"
   ]
  },
  {
   "cell_type": "markdown",
   "metadata": {},
   "source": [
    "Clearly the mu has to be for the gene as a whole, not for each particular nucleotide in the gen"
   ]
  },
  {
   "cell_type": "markdown",
   "metadata": {},
   "source": [
    "We now create a \"per nucleotide mu\""
   ]
  },
  {
   "cell_type": "code",
   "execution_count": 54,
   "metadata": {
    "collapsed": false
   },
   "outputs": [
    {
     "data": {
      "image/png": "[encoded data removed]",
      "text/plain": [
       "<matplotlib.figure.Figure at 0x10ddf8590>"
      ]
     },
     "metadata": {},
     "output_type": "display_data"
    }
   ],
   "source": [
    "Merged[\"mu_per_nucleotide\"]=Merged[\"mu\"]/Merged[\"bp\"]\n",
    "_=plt.hist(Merged[\"mu_per_nucleotide\"])"
   ]
  },
  {
   "cell_type": "markdown",
   "metadata": {},
   "source": [
    "Find segments of genes that all have roughly similar mu*L.  To do this, first multiply mu_per_nucleotide by # nucleotides.  then choose a cutoff. "
   ]
  },
  {
   "cell_type": "code",
   "execution_count": 55,
   "metadata": {
    "collapsed": false
   },
   "outputs": [
    {
     "data": {
      "image/png": "[encoded data removed]",
      "text/plain": [
       "<matplotlib.figure.Figure at 0x110669b90>"
      ]
     },
     "metadata": {},
     "output_type": "display_data"
    }
   ],
   "source": [
    "_=plt.hist(Merged[\"mu_per_nucleotide\"]*Merged[\"# nucleotides\"], bins=20)"
   ]
  },
  {
   "cell_type": "markdown",
   "metadata": {},
   "source": [
    "We choose 0.00001 as a cutoff"
   ]
  },
  {
   "cell_type": "code",
   "execution_count": 56,
   "metadata": {
    "collapsed": false
   },
   "outputs": [
    {
     "data": {
      "text/plain": [
       "(4959, 15)"
      ]
     },
     "execution_count": 56,
     "metadata": {},
     "output_type": "execute_result"
    }
   ],
   "source": [
    "cutoff = 0.00001\n",
    "Merged_muL_greater_than_cutoff = Merged[Merged[\"mu_per_nucleotide\"]*Merged[\"# nucleotides\"]>=cutoff]\n",
    "Merged_muL_greater_than_cutoff.shape"
   ]
  },
  {
   "cell_type": "code",
   "execution_count": 57,
   "metadata": {
    "collapsed": false
   },
   "outputs": [
    {
     "name": "stderr",
     "output_type": "stream",
     "text": [
      "/anaconda/lib/python2.7/site-packages/ipykernel/__main__.py:1: SettingWithCopyWarning: \n",
      "A value is trying to be set on a copy of a slice from a DataFrame.\n",
      "Try using .loc[row_indexer,col_indexer] = value instead\n",
      "\n",
      "See the caveats in the documentation: http://pandas.pydata.org/pandas-docs/stable/indexing.html#indexing-view-versus-copy\n",
      "  if __name__ == '__main__':\n",
      "/anaconda/lib/python2.7/site-packages/ipykernel/__main__.py:2: SettingWithCopyWarning: \n",
      "A value is trying to be set on a copy of a slice from a DataFrame.\n",
      "Try using .loc[row_indexer,col_indexer] = value instead\n",
      "\n",
      "See the caveats in the documentation: http://pandas.pydata.org/pandas-docs/stable/indexing.html#indexing-view-versus-copy\n",
      "  from ipykernel import kernelapp as app\n"
     ]
    },
    {
     "data": {
      "text/html": [
       "<div>\n",
       "<table border=\"1\" class=\"dataframe\">\n",
       "  <thead>\n",
       "    <tr style=\"text-align: right;\">\n",
       "      <th></th>\n",
       "      <th>Gene</th>\n",
       "      <th>gene symbol</th>\n",
       "      <th># nucleotides</th>\n",
       "      <th>included in restrictive data set?</th>\n",
       "      <th>transcript</th>\n",
       "      <th>chr</th>\n",
       "      <th>n_exons</th>\n",
       "      <th>tx_start</th>\n",
       "      <th>tx_end</th>\n",
       "      <th>bp</th>\n",
       "      <th>mu_syn</th>\n",
       "      <th>mu_mis</th>\n",
       "      <th>mu_lof</th>\n",
       "      <th>mu</th>\n",
       "      <th>mu_per_nucleotide</th>\n",
       "      <th>cutoff_number_of_nucleotides</th>\n",
       "    </tr>\n",
       "  </thead>\n",
       "  <tbody>\n",
       "    <tr>\n",
       "      <th>0</th>\n",
       "      <td>HC3</td>\n",
       "      <td>XPO1</td>\n",
       "      <td>1377</td>\n",
       "      <td>yes</td>\n",
       "      <td>ENST00000401558.2</td>\n",
       "      <td>2</td>\n",
       "      <td>24</td>\n",
       "      <td>61705954</td>\n",
       "      <td>61761032</td>\n",
       "      <td>3216</td>\n",
       "      <td>0.000010</td>\n",
       "      <td>0.000026</td>\n",
       "      <td>2.820521e-06</td>\n",
       "      <td>0.000039</td>\n",
       "      <td>1.205082e-08</td>\n",
       "      <td>829</td>\n",
       "    </tr>\n",
       "    <tr>\n",
       "      <th>1</th>\n",
       "      <td>HC5</td>\n",
       "      <td>TRHR</td>\n",
       "      <td>1185</td>\n",
       "      <td>yes</td>\n",
       "      <td>ENST00000518632.1</td>\n",
       "      <td>8</td>\n",
       "      <td>2</td>\n",
       "      <td>110099741</td>\n",
       "      <td>110131684</td>\n",
       "      <td>1197</td>\n",
       "      <td>0.000004</td>\n",
       "      <td>0.000009</td>\n",
       "      <td>5.842953e-07</td>\n",
       "      <td>0.000014</td>\n",
       "      <td>1.157328e-08</td>\n",
       "      <td>864</td>\n",
       "    </tr>\n",
       "    <tr>\n",
       "      <th>2</th>\n",
       "      <td>HC6</td>\n",
       "      <td>ATP6V1C1</td>\n",
       "      <td>1107</td>\n",
       "      <td>yes</td>\n",
       "      <td>ENST00000395862.3</td>\n",
       "      <td>8</td>\n",
       "      <td>12</td>\n",
       "      <td>104053064</td>\n",
       "      <td>104080975</td>\n",
       "      <td>1149</td>\n",
       "      <td>0.000004</td>\n",
       "      <td>0.000009</td>\n",
       "      <td>1.228297e-06</td>\n",
       "      <td>0.000014</td>\n",
       "      <td>1.260551e-08</td>\n",
       "      <td>793</td>\n",
       "    </tr>\n",
       "    <tr>\n",
       "      <th>3</th>\n",
       "      <td>HC7</td>\n",
       "      <td>KCNV1</td>\n",
       "      <td>1356</td>\n",
       "      <td>yes</td>\n",
       "      <td>ENST00000524391.1</td>\n",
       "      <td>8</td>\n",
       "      <td>3</td>\n",
       "      <td>110980316</td>\n",
       "      <td>110986617</td>\n",
       "      <td>1503</td>\n",
       "      <td>0.000009</td>\n",
       "      <td>0.000018</td>\n",
       "      <td>7.860640e-07</td>\n",
       "      <td>0.000028</td>\n",
       "      <td>1.847618e-08</td>\n",
       "      <td>541</td>\n",
       "    </tr>\n",
       "    <tr>\n",
       "      <th>4</th>\n",
       "      <td>HC8</td>\n",
       "      <td>RIMS2</td>\n",
       "      <td>2253</td>\n",
       "      <td>yes</td>\n",
       "      <td>ENST00000406091.3</td>\n",
       "      <td>8</td>\n",
       "      <td>24</td>\n",
       "      <td>104513114</td>\n",
       "      <td>105264048</td>\n",
       "      <td>4050</td>\n",
       "      <td>0.000014</td>\n",
       "      <td>0.000041</td>\n",
       "      <td>4.881915e-06</td>\n",
       "      <td>0.000060</td>\n",
       "      <td>1.483878e-08</td>\n",
       "      <td>673</td>\n",
       "    </tr>\n",
       "  </tbody>\n",
       "</table>\n",
       "</div>"
      ],
      "text/plain": [
       "  Gene gene symbol  # nucleotides included in restrictive data set?         transcript chr  n_exons   tx_start     tx_end    bp    mu_syn    mu_mis        mu_lof        mu  mu_per_nucleotide  cutoff_number_of_nucleotides\n",
       "0  HC3        XPO1           1377                               yes  ENST00000401558.2   2       24   61705954   61761032  3216  0.000010  0.000026  2.820521e-06  0.000039       1.205082e-08                           829\n",
       "1  HC5        TRHR           1185                               yes  ENST00000518632.1   8        2  110099741  110131684  1197  0.000004  0.000009  5.842953e-07  0.000014       1.157328e-08                           864\n",
       "2  HC6    ATP6V1C1           1107                               yes  ENST00000395862.3   8       12  104053064  104080975  1149  0.000004  0.000009  1.228297e-06  0.000014       1.260551e-08                           793\n",
       "3  HC7       KCNV1           1356                               yes  ENST00000524391.1   8        3  110980316  110986617  1503  0.000009  0.000018  7.860640e-07  0.000028       1.847618e-08                           541\n",
       "4  HC8       RIMS2           2253                               yes  ENST00000406091.3   8       24  104513114  105264048  4050  0.000014  0.000041  4.881915e-06  0.000060       1.483878e-08                           673"
      ]
     },
     "execution_count": 57,
     "metadata": {},
     "output_type": "execute_result"
    }
   ],
   "source": [
    "Merged_muL_greater_than_cutoff[\"cutoff_number_of_nucleotides\"] = cutoff / Merged[\"mu_per_nucleotide\"]\n",
    "Merged_muL_greater_than_cutoff[\"cutoff_number_of_nucleotides\"] = Merged_muL_greater_than_cutoff[\"cutoff_number_of_nucleotides\"].apply(int)\n",
    "Merged_muL_greater_than_cutoff.head()"
   ]
  },
  {
   "cell_type": "markdown",
   "metadata": {},
   "source": [
    "Now, find sites that are located far enough from one another"
   ]
  },
  {
   "cell_type": "code",
   "execution_count": 58,
   "metadata": {
    "collapsed": false
   },
   "outputs": [
    {
     "data": {
      "text/plain": [
       "chr\n",
       "1     477\n",
       "2     341\n",
       "3     287\n",
       "4     164\n",
       "5     240\n",
       "6     298\n",
       "7     215\n",
       "8     158\n",
       "9     192\n",
       "10    187\n",
       "11    303\n",
       "12    258\n",
       "13     93\n",
       "14    166\n",
       "15    136\n",
       "16    192\n",
       "17    291\n",
       "18     78\n",
       "19    340\n",
       "20    160\n",
       "21     64\n",
       "22    129\n",
       "X     189\n",
       "Y       1\n",
       "Name: Gene, dtype: int64"
      ]
     },
     "execution_count": 58,
     "metadata": {},
     "output_type": "execute_result"
    }
   ],
   "source": [
    "#How much info do we have per chromosome\n",
    "Merged_muL_greater_than_cutoff.groupby('chr').Gene.count()"
   ]
  },
  {
   "cell_type": "code",
   "execution_count": 59,
   "metadata": {
    "collapsed": false
   },
   "outputs": [
    {
     "name": "stdout",
     "output_type": "stream",
     "text": [
      "189\n"
     ]
    },
    {
     "data": {
      "image/png": "[encoded data removed]",
      "text/plain": [
       "<matplotlib.figure.Figure at 0x10e0f3cd0>"
      ]
     },
     "metadata": {},
     "output_type": "display_data"
    }
   ],
   "source": [
    "#histogram of start position on the X chromo\n",
    "Merged_muL_greater_than_cutoff[Merged_muL_greater_than_cutoff.chr ==\"X\"].tx_start.hist(bins=100)\n",
    "print len(Merged_muL_greater_than_cutoff[Merged_muL_greater_than_cutoff.chr ==\"X\"].tx_start)"
   ]
  },
  {
   "cell_type": "markdown",
   "metadata": {},
   "source": [
    "## Create a dataframe just containing independent loci "
   ]
  },
  {
   "cell_type": "markdown",
   "metadata": {},
   "source": [
    "We are going to assume that sites that are separated by 1 megabase are independent: http://biorxiv.org/content/biorxiv/early/2015/09/16/020255.full.pdf and Loh et al 2015\n",
    "    "
   ]
  },
  {
   "cell_type": "code",
   "execution_count": 60,
   "metadata": {
    "collapsed": false
   },
   "outputs": [
    {
     "name": "stdout",
     "output_type": "stream",
     "text": [
      "(78, 17) (33, 17)\n"
     ]
    }
   ],
   "source": [
    "#We figure out those that are separated enough for chromosome 18 -- we will automate this in a for loop later\n",
    "\n",
    "#Sort data frame by t_start value\n",
    "sorted_df=Merged_muL_greater_than_cutoff[Merged_muL_greater_than_cutoff.chr ==18].sort_values(by=\"tx_start\")\n",
    "\n",
    "#Find elements that are separated by at least 1Mb\n",
    "last_tx = -1000000\n",
    "for i, row in sorted_df.iterrows():\n",
    "    if row.tx_start - last_tx > 1000000:\n",
    "        #last_tx = row.tx_end  \n",
    "        last_tx = row.tx_start + row.cutoff_number_of_nucleotides\n",
    "        sorted_df.set_value(i,'separated_enough',True)\n",
    "    else:\n",
    "        sorted_df.set_value(i,'separated_enough',False)\n",
    "\n",
    "#about half of the values were kept\n",
    "print sorted_df.shape, sorted_df[sorted_df.separated_enough].shape"
   ]
  },
  {
   "cell_type": "code",
   "execution_count": 61,
   "metadata": {
    "collapsed": false
   },
   "outputs": [
    {
     "name": "stdout",
     "output_type": "stream",
     "text": [
      "chr, size of original dataset, size of dataset with only indep loci\n",
      "2 (341, 17) (109, 17)\n",
      "chr, size of original dataset, size of dataset with only indep loci\n",
      "8 (158, 17) (58, 17)\n",
      "chr, size of original dataset, size of dataset with only indep loci\n",
      "6 (298, 17) (87, 17)\n",
      "chr, size of original dataset, size of dataset with only indep loci\n",
      "X (189, 17) (66, 17)\n",
      "chr, size of original dataset, size of dataset with only indep loci\n",
      "11 (303, 17) (71, 17)\n",
      "chr, size of original dataset, size of dataset with only indep loci\n",
      "3 (287, 17) (88, 17)\n",
      "chr, size of original dataset, size of dataset with only indep loci\n",
      "16 (192, 17) (39, 17)\n",
      "chr, size of original dataset, size of dataset with only indep loci\n",
      "1 (477, 17) (122, 17)\n",
      "chr, size of original dataset, size of dataset with only indep loci\n",
      "5 (240, 17) (81, 17)\n",
      "chr, size of original dataset, size of dataset with only indep loci\n",
      "7 (215, 17) (68, 17)\n",
      "chr, size of original dataset, size of dataset with only indep loci\n",
      "12 (258, 17) (67, 17)\n",
      "chr, size of original dataset, size of dataset with only indep loci\n",
      "22 (129, 17) (24, 17)\n",
      "chr, size of original dataset, size of dataset with only indep loci\n",
      "4 (164, 17) (74, 17)\n",
      "chr, size of original dataset, size of dataset with only indep loci\n",
      "19 (340, 17) (42, 17)\n",
      "chr, size of original dataset, size of dataset with only indep loci\n",
      "17 (291, 17) (53, 17)\n",
      "chr, size of original dataset, size of dataset with only indep loci\n",
      "15 (136, 17) (43, 17)\n",
      "chr, size of original dataset, size of dataset with only indep loci\n",
      "18 (78, 17) (30, 17)\n",
      "chr, size of original dataset, size of dataset with only indep loci\n",
      "21 (64, 17) (17, 17)\n",
      "chr, size of original dataset, size of dataset with only indep loci\n",
      "14 (166, 17) (45, 17)\n",
      "chr, size of original dataset, size of dataset with only indep loci\n",
      "13 (93, 17) (37, 17)\n",
      "chr, size of original dataset, size of dataset with only indep loci\n",
      "10 (187, 17) (64, 17)\n",
      "chr, size of original dataset, size of dataset with only indep loci\n",
      "20 (160, 17) (37, 17)\n",
      "chr, size of original dataset, size of dataset with only indep loci\n",
      "9 (192, 17) (57, 17)\n",
      "chr, size of original dataset, size of dataset with only indep loci\n",
      "Y (1, 17) (1, 17)\n",
      "chr, size of original dataset, size of dataset with only indep loci (all chromos concatenated)\n",
      "(1380, 17)\n"
     ]
    }
   ],
   "source": [
    "def return_dataframe_with_independent_loci(chromosome, Merged_muL_greater_than_cutoff):\n",
    "    #Sort data frame by t_start value\n",
    "    sorted_df=Merged_muL_greater_than_cutoff[Merged_muL_greater_than_cutoff.chr ==chromosome].sort_values(by=\"tx_start\")\n",
    "\n",
    "    #Find elements that are separated by at least 1Mb\n",
    "    last_tx = -1000000\n",
    "    for i, row in sorted_df.iterrows():\n",
    "        if row.tx_start - last_tx > 1000000:\n",
    "            last_tx = row.tx_end        \n",
    "            sorted_df.set_value(i,'separated_enough',True)\n",
    "        else:\n",
    "            sorted_df.set_value(i,'separated_enough',False)\n",
    "\n",
    "    print \"chr, size of original dataset, size of dataset with only indep loci\"\n",
    "    print chromosome, sorted_df.shape, sorted_df[sorted_df.separated_enough].shape\n",
    "    \n",
    "    return sorted_df[sorted_df.separated_enough]\n",
    "\n",
    "list_of_dataframes_indep_loci = []\n",
    "for chromosome in Merged_muL_greater_than_cutoff.chr.unique():\n",
    "    list_of_dataframes_indep_loci.append(return_dataframe_with_independent_loci(chromosome, Merged_muL_greater_than_cutoff))\n",
    "    \n",
    "dataframe_indep_loci = pd.concat(list_of_dataframes_indep_loci)\n",
    "\n",
    "print \"chr, size of original dataset, size of dataset with only indep loci (all chromos concatenated)\"\n",
    "print dataframe_indep_loci.shape"
   ]
  },
  {
   "cell_type": "markdown",
   "metadata": {},
   "source": [
    "The data set is now of size 1380.\n",
    "\n",
    "Plotting the old dataset (not culled to just contain indep loci) in blue, with the new dataset only containing indep loci in green on top of it.  Histogram just for the X chromo."
   ]
  },
  {
   "cell_type": "code",
   "execution_count": 62,
   "metadata": {
    "collapsed": false
   },
   "outputs": [
    {
     "data": {
      "text/html": [
       "<div>\n",
       "<table border=\"1\" class=\"dataframe\">\n",
       "  <thead>\n",
       "    <tr style=\"text-align: right;\">\n",
       "      <th></th>\n",
       "      <th>Gene</th>\n",
       "      <th>gene symbol</th>\n",
       "      <th># nucleotides</th>\n",
       "      <th>included in restrictive data set?</th>\n",
       "      <th>transcript</th>\n",
       "      <th>chr</th>\n",
       "      <th>n_exons</th>\n",
       "      <th>tx_start</th>\n",
       "      <th>tx_end</th>\n",
       "      <th>bp</th>\n",
       "      <th>mu_syn</th>\n",
       "      <th>mu_mis</th>\n",
       "      <th>mu_lof</th>\n",
       "      <th>mu</th>\n",
       "      <th>mu_per_nucleotide</th>\n",
       "      <th>cutoff_number_of_nucleotides</th>\n",
       "      <th>separated_enough</th>\n",
       "    </tr>\n",
       "  </thead>\n",
       "  <tbody>\n",
       "    <tr>\n",
       "      <th>2934</th>\n",
       "      <td>HC10256</td>\n",
       "      <td>SNTG2</td>\n",
       "      <td>1131</td>\n",
       "      <td>yes</td>\n",
       "      <td>ENST00000308624.5</td>\n",
       "      <td>2</td>\n",
       "      <td>17</td>\n",
       "      <td>946682</td>\n",
       "      <td>1371246</td>\n",
       "      <td>1620</td>\n",
       "      <td>0.000010</td>\n",
       "      <td>0.000019</td>\n",
       "      <td>1.614178e-06</td>\n",
       "      <td>0.000030</td>\n",
       "      <td>1.874699e-08</td>\n",
       "      <td>533</td>\n",
       "      <td>True</td>\n",
       "    </tr>\n",
       "    <tr>\n",
       "      <th>2933</th>\n",
       "      <td>HC10254</td>\n",
       "      <td>TSSC1</td>\n",
       "      <td>810</td>\n",
       "      <td>yes</td>\n",
       "      <td>ENST00000382125.4</td>\n",
       "      <td>2</td>\n",
       "      <td>9</td>\n",
       "      <td>3193104</td>\n",
       "      <td>3381460</td>\n",
       "      <td>1164</td>\n",
       "      <td>0.000007</td>\n",
       "      <td>0.000014</td>\n",
       "      <td>9.656517e-07</td>\n",
       "      <td>0.000022</td>\n",
       "      <td>1.884216e-08</td>\n",
       "      <td>530</td>\n",
       "      <td>True</td>\n",
       "    </tr>\n",
       "    <tr>\n",
       "      <th>2172</th>\n",
       "      <td>HC6272</td>\n",
       "      <td>CPSF3</td>\n",
       "      <td>1236</td>\n",
       "      <td>yes</td>\n",
       "      <td>ENST00000238112.3</td>\n",
       "      <td>2</td>\n",
       "      <td>18</td>\n",
       "      <td>9563902</td>\n",
       "      <td>9613146</td>\n",
       "      <td>2055</td>\n",
       "      <td>0.000008</td>\n",
       "      <td>0.000019</td>\n",
       "      <td>1.819344e-06</td>\n",
       "      <td>0.000028</td>\n",
       "      <td>1.368408e-08</td>\n",
       "      <td>730</td>\n",
       "      <td>True</td>\n",
       "    </tr>\n",
       "    <tr>\n",
       "      <th>3841</th>\n",
       "      <td>HC12496</td>\n",
       "      <td>KCNF1</td>\n",
       "      <td>1158</td>\n",
       "      <td>yes</td>\n",
       "      <td>ENST00000295082.1</td>\n",
       "      <td>2</td>\n",
       "      <td>1</td>\n",
       "      <td>11052552</td>\n",
       "      <td>11054037</td>\n",
       "      <td>1485</td>\n",
       "      <td>0.000013</td>\n",
       "      <td>0.000023</td>\n",
       "      <td>5.128354e-07</td>\n",
       "      <td>0.000037</td>\n",
       "      <td>2.485601e-08</td>\n",
       "      <td>402</td>\n",
       "      <td>True</td>\n",
       "    </tr>\n",
       "    <tr>\n",
       "      <th>374</th>\n",
       "      <td>HC657</td>\n",
       "      <td>DDX1</td>\n",
       "      <td>1893</td>\n",
       "      <td>yes</td>\n",
       "      <td>ENST00000381341.2</td>\n",
       "      <td>2</td>\n",
       "      <td>26</td>\n",
       "      <td>15732057</td>\n",
       "      <td>15771030</td>\n",
       "      <td>2223</td>\n",
       "      <td>0.000007</td>\n",
       "      <td>0.000018</td>\n",
       "      <td>2.019186e-06</td>\n",
       "      <td>0.000027</td>\n",
       "      <td>1.232486e-08</td>\n",
       "      <td>811</td>\n",
       "      <td>True</td>\n",
       "    </tr>\n",
       "  </tbody>\n",
       "</table>\n",
       "</div>"
      ],
      "text/plain": [
       "         Gene gene symbol  # nucleotides included in restrictive data set?         transcript chr  n_exons  tx_start    tx_end    bp    mu_syn    mu_mis        mu_lof        mu  mu_per_nucleotide  cutoff_number_of_nucleotides separated_enough\n",
       "2934  HC10256       SNTG2           1131                               yes  ENST00000308624.5   2       17    946682   1371246  1620  0.000010  0.000019  1.614178e-06  0.000030       1.874699e-08                           533             True\n",
       "2933  HC10254       TSSC1            810                               yes  ENST00000382125.4   2        9   3193104   3381460  1164  0.000007  0.000014  9.656517e-07  0.000022       1.884216e-08                           530             True\n",
       "2172   HC6272       CPSF3           1236                               yes  ENST00000238112.3   2       18   9563902   9613146  2055  0.000008  0.000019  1.819344e-06  0.000028       1.368408e-08                           730             True\n",
       "3841  HC12496       KCNF1           1158                               yes  ENST00000295082.1   2        1  11052552  11054037  1485  0.000013  0.000023  5.128354e-07  0.000037       2.485601e-08                           402             True\n",
       "374     HC657        DDX1           1893                               yes  ENST00000381341.2   2       26  15732057  15771030  2223  0.000007  0.000018  2.019186e-06  0.000027       1.232486e-08                           811             True"
      ]
     },
     "execution_count": 62,
     "metadata": {},
     "output_type": "execute_result"
    }
   ],
   "source": [
    "dataframe_indep_loci.head()"
   ]
  },
  {
   "cell_type": "code",
   "execution_count": 63,
   "metadata": {
    "collapsed": false
   },
   "outputs": [
    {
     "data": {
      "text/plain": [
       "<matplotlib.axes._subplots.AxesSubplot at 0x10fd2b290>"
      ]
     },
     "execution_count": 63,
     "metadata": {},
     "output_type": "execute_result"
    },
    {
     "data": {
      "image/png": "[encoded data removed]",
      "text/plain": [
       "<matplotlib.figure.Figure at 0x10d9a4f90>"
      ]
     },
     "metadata": {},
     "output_type": "display_data"
    }
   ],
   "source": [
    "#old dataset\n",
    "Merged_muL_greater_than_cutoff[Merged_muL_greater_than_cutoff.chr ==\"X\"].tx_start.hist(bins=100)\n",
    "\n",
    "#new dataset\n",
    "dataframe_indep_loci[dataframe_indep_loci.chr==\"X\"].tx_start.hist(bins=100)"
   ]
  },
  {
   "cell_type": "markdown",
   "metadata": {},
   "source": [
    "## Retrieving gene information from HC files"
   ]
  },
  {
   "cell_type": "code",
   "execution_count": 64,
   "metadata": {
    "collapsed": false
   },
   "outputs": [
    {
     "data": {
      "text/plain": [
       "array([u'HC10256', u'HC10254', u'HC6272', ..., u'HC10927', u'HC8037',\n",
       "       u'HC1419'], dtype=object)"
      ]
     },
     "execution_count": 64,
     "metadata": {},
     "output_type": "execute_result"
    }
   ],
   "source": [
    "#These are the loci we will be looking up\n",
    "dataframe_indep_loci.Gene.values"
   ]
  },
  {
   "cell_type": "code",
   "execution_count": 65,
   "metadata": {
    "collapsed": false
   },
   "outputs": [
    {
     "name": "stdout",
     "output_type": "stream",
     "text": [
      ">human 12807 bp\n",
      "\n",
      "NAAATTCCCGGAGACCAGGTTGTCAGTGTGGTGTTCATCAAGGAGCTGGATGGCTGGGTT\n",
      "\n",
      "TTTGTGGAGCTGGATGTGGGCTCGGAAGGGAATGCGGATGGGGCTCAGATTCAGGAGATG\n",
      "\n",
      "CTGCTCAGGGTCATCTCCAGCGGCTCTGTGGCCTCCTACGTCACCTCTCCCCAGGGATTC\n",
      "\n",
      "CAGTTCCGACGCCTGGGCACAGTGCCCCAGTTCCCAAGAGCCTGCACGGAGGCCGAGTTT\n",
      "\n",
      "GCCTGCCACAGCTACAATGAGTGTGTGGCCCTGGAGTATCGCTGTGACCGGCGGCCCGAC\n",
      "\n",
      "TGCAGGGACATGTCTGATGAGCTCAATTGTGAGGAGCCAGTCCTGGGTATCAGCCCCACA\n",
      "\n",
      "TTCTCTCTCCTCGTGGAGACGACATCTTTACCGCCCCGGCCAGAGACAACCATCATGCGA\n",
      "\n",
      "CAGCCACCAGTCACCCACGCTCCTCAGCCCCTGCTTCCCGGTTCCGTCANNNNNCCCCTG\n",
      "\n",
      "CCCTGTGCGNCCCAGGAGGCCGCATGCCGCAATGGGCACTGCATCCCCAGAGACTACCTC\n",
      "\n",
      "TGCGACGGACAGGAGGACTGCGAGGACGGCAGCGATGAGCTAGACTGTGGCCCCCCGCCA\n",
      "\n",
      "CCCTGTGAGCCCAACGAGXXXXXXXXXXXXXXXXXXXXXXXXXXXXXXXXXXXXXXXXXX\n",
      "\n",
      "XXXXXXXXXXXXXXXXXXXXXXXXXXXXXXXXXXXXXXXXXXXXXXXXXCCACCAAGCGT\n",
      "\n",
      "CCTGAGGAAGTGTGCGGGCCCACACAGTTCCGATGCGTCTCTACCAACATGTGCATCCCA\n",
      "\n",
      "GCCAGCTTCCACTGTGACGAGGAGAGCGACTGTCCTGACCGGAGCGACGAGTTTGGCTGC\n",
      "\n",
      "ATGCCCCCCCAGGTGGTGACACCTCCCCGGGAGTCCATCCAGGCTTCCCGGGGCCAGACA\n",
      "\n",
      "GTGACCTTCACCTGCGTGGCCATTGGCGTCCCCACCCCNNTCATCAATTGGAGGCTCAAC\n",
      "\n",
      "TGGGGCCACATCCCCTCTCATCCCAGGGTGACAGTGACCAGCGAGGGTGGCCGTGGCACA\n",
      "\n",
      "CTGATCATCCGTGATGTGAAGGAGTCAGACCAGGGTGCCTACACCTGTGAGGCCATGAAC\n",
      "\n",
      "GCCCGGGGCATGGTGTTTGGCATTCCTGACGGTGTCCTTGAGCTCGTCCCACAACGAGCA\n",
      "\n",
      "GGCCCCTGCCCTGACGGCCACTTCTACCTGGAGCACAGCGCCGCCTGCCTGCCCTGCTTC\n",
      "\n",
      "TGCTTTGGCATCACCAGCGTGTGCCAGAGCACCCGCCGCTTCCGGGACCAGATCAGGCTG\n",
      "\n",
      "CGCTTTGACCAACCCGATGACTTCAAGGGTGTGAATGTGACAATGCCTGCGCAGCCCGGC\n",
      "\n",
      "ACGCCACCCCTCTCCTCCACGCAGCTGCAGATCGACCCATCCCTGCACGAGTTCCAGCTA\n",
      "\n",
      "GTCGACCTGTCCCGCCGCTTCCTCGTCCACGACTCCTTCTGGGCTCTGCCTGAACAGTTC\n",
      "\n",
      "CTGGGCAACAAGGTGGACTCCTATGGCGGCTCCCTGCGTTACAACGTGCGCTACGAGTTG\n",
      "\n",
      "GCCCGTGGCATGCTGGAGCCAGTGCAGCGGCCGGACGTGGTCCTCGTGGGTGCCGGGTAC\n",
      "\n",
      "CGCCTCCTCTCCCGAGGCCACACACCCACCCAACCTGGTGCTCTGAACCAGCGCCAGGTC\n",
      "\n",
      "CAGTTCTCTGAGGAGCACTGGGTCCATGAGTCTGGCCGGCCGGTGCAGCGCGCGGAGCTG\n",
      "\n",
      "CTGCAGGTGCTGCAGAGCCTGGAGGCCGTGCTCATCCAGACCGTGTACAACACCAAGATG\n",
      "\n",
      "GCTAGCGTGGGACTTAGCGACATCGCCATGGATACCACCGTCACCCATGCCACCAGCCAT\n",
      "\n",
      "GGCCGTGCCCACAGTGTGGAGGAGTGCAGATGCCCCATTGGCTATTCTGGCTTGTCCTGC\n",
      "\n",
      "GAGAGCTGTGATGCCCACTTCACTCGGGTGCCTGGTGGGCCCTACCTGGGCACCTGCTCT\n",
      "\n",
      "GGTTGCAGTTGCAATGGCCATGCCAGCTCCTGTGACCCTGTGTATGGCCACTGCCTGAAT\n",
      "\n",
      "TGCCAGCACAACACGGAGGGGCCACAGTGCAACAAGTGCAAGGCTGGCTTCTTTGGGGAC\n",
      "\n",
      "GCCATGAAGGCCACGGCCACTTCCTGCCGGCCCTGCCCTTGCCCATACATCGATGCCTCC\n",
      "\n",
      "CGCAGATTCTCAGACACTTGCTTCCTGGACACGGATGGCCAAGCCACATGTGACGCCTGT\n",
      "\n",
      "GCCCCAGGCTACACTGGCCGCCGCTGTGAGAGCTGTGCCCCCGGATACGAGGGCAACCCC\n",
      "\n",
      "ATCCAGCCCGGCGGGAAGTGCAGGCCCGTCAACCAGGAGATTGTGCGCTGTGACGAGCGT\n",
      "\n",
      "GGCAGCATGGGGACCTCCGGGGAGGCCTGCCGCTGTAAGAACAATGTGGTGGGGCGCTTG\n",
      "\n",
      "TGCAATGAATGTGCTGACGGCTCTTTCCACCTGAGTACCCGAAACCCCGATGGCTGCCTC\n",
      "\n",
      "AAGTGCTTCTGCATGGGTGTCAGTCGCCACTGCACCAGCTCTTCATGGAGCCGTGCCCAG\n",
      "\n",
      "TTGCATGGGGCCTCTGAGGAGCCTGGTCACTTCAGCCTGACCAACGCCGCAAGCACCCAC\n",
      "\n",
      "ACCACCAACGAGGGCATCTTCTCCCCCACGCCCGGGGAACTGGGATTCTCCTCCTTCCAC\n",
      "\n",
      "AGACTCTTATCTGGACCCTACTTCTGGAGCCTCCCTTCACGCTTCCTGGGGGACAAGGTG\n",
      "\n",
      "ACCTCCTATGGAGGAGAGCTGCGCTTCACAGTGACCCAGAGGTCCCAGCCGGGCTCCACA\n",
      "\n",
      "CCCCTGCACGGGCAGCCGTTGGTGGTGCTGCAAGGTAACAACATCATCCTAGAGCACCAT\n",
      "\n",
      "GTGGCCCAGGAGCCCAGCCCCGGCCAGCCCAGCACCTTCATTGTGCCTTTCCGGGAGCAA\n",
      "\n",
      "GCATGGCAGCGGCCCGATGGGCAGCCAGCCACACGGGAGCACCTGCTGATGGCACTGGCA\n",
      "\n",
      "GGCATCGACACCCTCCTGATCCGAGCATCCTACGCCCAGCAGCCCGCTGAGAGCAGGGTC\n",
      "\n",
      "TCTGGCATCAGCATGGACGTGGCTGTGCCCGAGGAAACCGGCCAGGACCCCGCGCTGGAA\n",
      "\n",
      "GTGGAACAGTGCTCCTGCCCACCCGGGTACCGTGGGCCGTCCTGCCAGGACTGTGACACA\n",
      "\n",
      "GGCTACACACGCACGCCCAGTGGCCTCTACCTGGGTACCTGTGAACGCTGCAGCTGCCAT\n",
      "\n",
      "GGCCACTCAGAGGCCTGCGAGCCAGAAACAGGTGCCTGCCAGGGCTGCCAGCATCACACG\n",
      "\n",
      "GAGGGCCCTCGGTGTGAGCAGTGCCAGCCAGGATACTACGGGGACGCCCAGCGGGGGACA\n",
      "\n",
      "CCACAGGACTGCCAGCTGTGCCCCTGCTACGGAGACCCTGCTGCCGGCCAXXXXXXXXXX\n",
      "\n",
      "XXXXXXXXXXXXXXXXXXXXXXXXXXXXXXXXXXXXXXXXXXXXXXXXXXXXXXXXXXXX\n",
      "\n",
      "XXXXXXXXXXXXXXXXXGTGCGCCCCTGGCTACTATGGCAACCCCAGCCAGGGCCAGCCA\n",
      "\n",
      "TGCCAGAGAGACAGCCAGGTGCCAGGGCCCATAGGCTGCAACTGTGACCCCCAAGGCAGC\n",
      "\n",
      "GTCAGCAGCCAGTGTGATGCTGCTGGTCAGTGCCAGTGCAAGGCCCAGGTGGAAGGCCTC\n",
      "\n",
      "ACTTGCAGCCACTGCCGGCCCCACCACTTCCACCTGAGTGCCAGCAACCCAGACGGCTGC\n",
      "\n",
      "CTGCCCTGCTTCTGTATGGGCATCACCCAGCAGTGCGCCAGCTCTGCCTACACACGCCAC\n",
      "\n",
      "CTGATCTCCACCCACTTTGCCCCTGGGGACTTCCAAGGCTTTGCCCTGGTGAACCCACAG\n",
      "\n",
      "CGAAACAGCCGCCTGACAGGAGAATTCACTGTGGAACCCGTGCCCGAGGGTGCCCAGCTC\n",
      "\n",
      "TCTTTTGGCAACTTTGCCCAACTCGGCCATGAGTCCTTCTACTGGCAGCTGCCGGAGACA\n",
      "\n",
      "TACCAGGGAGACAAGGTGGCGGCCTACGGTGGGAAGTTGCGATACACCCTCTCCTACACA\n",
      "\n",
      "GCAGGCCCACAGGGCAGCCCACTCTCTGACCCCGATGTGCAGATCACGGGCAACAACATC\n",
      "\n",
      "ATGCTAGTGGCCTCCCAGCCAGCGCTGCAGGGCCCTGAGAGGAGGAGCTACGAGATCATG\n",
      "\n",
      "TTCCGAGAGGANNNNTTCTGGCGCCGGCCCGATGGGCAGCCGGCCACACGCGAGCACCTC\n",
      "\n",
      "CTGATGGCACTGGCCGACCTGGATGAGCTCCTGATCCGGGCCACGTTCTCCTCCGTGCCG\n",
      "\n",
      "CTGGCGGCCAGCATCAGCGCAGTCAGCCTGGAGGTCGCCCAGCCGGGGCCCTCAAACAGA\n",
      "\n",
      "CCCCGCGCCCTCGAGGTGGAGGAGTGCCGCTGCCCGCCAGGCTACATCGGTCTGTCCTGC\n",
      "\n",
      "CAGGACTGTGCCCCCGGCTACACGCGCACCGGGAGTGGGCTCTACCTCGGCCACTGCGAG\n",
      "\n",
      "CTATGTGAATGCAATGGCCACTCAGACCTGTGCCACCCAGAGACTGGGGCCTGCTCGCAA\n",
      "\n",
      "TGCCAGCACAACGCCGCAGGGGAGTTCTGCGAGCTTTGTGCCCCTGGCTACTACGGAGAT\n",
      "\n",
      "GCCACAGCCGGGACGCCTGAGGACTGCCAGCCCTGTGCCTGCCCACTGACCAACCCAGAG\n",
      "\n",
      "AACATGTTTTCCCGCACCTGTGAGAGCCTGGGAGCCGGCGGGTACCGCTGCACGGCCTGC\n",
      "\n",
      "GAACCCGGCTACACTGGCCAGTACTGTGAGCAGTGTGGCCCAGGTTACGTGGGTAACCCC\n",
      "\n",
      "AGTGTGCAAGGGGGCCAGTGCCTGCCAGAGACAAACCAAGCCCCACTGGTGGTCGAGGTC\n",
      "\n",
      "CATCCTGCTCGAAGCATAGTGCCCCAAGGTGGCTCCCACTCCCTGCGGTGTCAGGTCAGT\n",
      "\n",
      "GGGAGCCCACCCCACTACTTCTATTGGTCCCGTGAGGATGGGCGGCCTGTGCCCAGCGGC\n",
      "\n",
      "ACCCAGCAGCGACATCAAGGCTCCGAGCTCCACTTCCCCAGCGTCCAGCCCTCGGATGCT\n",
      "\n",
      "GGGGTCTACATTTGCACCTGCCGTAATCTCCACCAATCCAATACCAGCCGGGCAGAGCTG\n",
      "\n",
      "CTGGTCACTGAGGCTCCAAGCAAGCCCATCACAGTGACTGTGGAGGAGCAGCGGAGCCAG\n",
      "\n",
      "AGCGTGCGCCCCGGAGCTGACGTCACCTTCATCTGCACAGCCAAAAGCAAGTCCCCAGCC\n",
      "\n",
      "TATACCCTGGTGTGGACCCGCCTGCACAACGGGAAACTGCCCACCCGAGCCATGGATTTC\n",
      "\n",
      "AATGGCATCCTGACCATTCGCAACGTCCAGCTGAGTGATGCAGGCACCTACGTGTGCACC\n",
      "\n",
      "GGCTCCAACATGTTTGCCATGGACCAGGGCACAGCCACTCTACATGTGCAGGCCTCGGGC\n",
      "\n",
      "ACCTTGTCCGCCCCCGTGGTCTCCATCCATCCGCCACAGCTCACAGTGCAGCCCGGGCAA\n",
      "\n",
      "CTGGCGGAGTTCCGCTGCAGCGCCACAGGGAGCCCCACGCCCACCCTCGAGTGGACAGGG\n",
      "\n",
      "GGCCCCGGCGGCCAGCTCCCTGCGAAGGCACAAATCCACGGCGGCATCCTGCGCCTGCCA\n",
      "\n",
      "GCTGTCGAGCCCACGGATCAGGCCCAGTACTTGTGCCGAGCCCACAGCAGCGCTGGGCAG\n",
      "\n",
      "CAGGTGGCCAGGGCTGTGCTCCACGTGCATGGGGGCGGTGGGCCCAGAGTCCAAGTGAGC\n",
      "\n",
      "CCAGAGAGGACCCAGGTCCACGCAGGCCGCACCGTCAGGCTGTACTGCAGGGCTGCAGGC\n",
      "\n",
      "GTGCCTAGCGCCACCATCACCTGGAGGAAGGAAGGGGGCAGCCTCCCACCACAGGCCCGG\n",
      "\n",
      "TCAGAGCGCACAGACATCGCGACACTGCTCATCCCAGCCATCACGACTGCTGACGCCGGC\n",
      "\n",
      "TTCTACCTCTGCGTGGCCACCAGCCCTGCAGGCACTGCCCAGGCCCGGATCCAAGTGGTT\n",
      "\n",
      "GTCCTTTCAGCCTCAGATGCCAGCCCACCGCCGGTCAAGATTGAGTCCTCATCGCCTTCT\n",
      "\n",
      "GTGACAGAAGGGCAAACACTCGACCTCAACTGTGTGGTGGCAGGGTCAGCCCATGCCCAG\n",
      "\n",
      "GTCACCTGGTACAGGCGAGGGGGTAGCCTGCCTCCCCACACCCAGGTGCACGGCTCCCGT\n",
      "\n",
      "CTGCGGCTCCCCCAGGTCTCACCAGCTGATTCTGGAGAATATGTGTGCCGTGTGGAGAAT\n",
      "\n",
      "GGATCGGGCCCCAAGGAGGCCTCCATTACTGTGTCTGTACTCCACGGCACCCATTCTGGC\n",
      "\n",
      "CCCAGCTACACCCCAGTGCCCGGCAGCACCCGGCCCATCCGCATCGAGCCCTCCTCCTCA\n",
      "\n",
      "CACGTGGCGGAAGGGCAGACCCTGGATCTGAACTGCGTGGTGCCCGGGCAGGCCCACGCC\n",
      "\n",
      "CAGGTCACGTGGCACAAGCGTGGGGGCAGCCTCCCTGCCCGGCACCAGACCCACGGCTCG\n",
      "\n",
      "CTGCTGCGGCTGCACCAGGTGACCCCGGCCGACTCAGGCGAGTATGTGTGCCATGTGGTG\n",
      "\n",
      "GGCACCTCCGGCCCCCTAGAGGCCTCAGTCCTGGTCACCATCGAAGCCTCTGTCATCCCT\n",
      "\n",
      "GGACCCATCCCACCTGTCAGGATCGAGTCTTCATCCTCCACAGTGGCCGAGGGCCAGACC\n",
      "\n",
      "CTGGATCTGAGCTGCGTGGTGGCAGGGCAGGCCCACGCCCAGGTCACATGGTACAAGCGT\n",
      "\n",
      "GGGGGCAGCCTCCCTGCCCGGCACCAGGTTCGTGGCTCCCGCCTGTACATCTTCCAGGCC\n",
      "\n",
      "TCACCTGCCGATGCGGGACAGTACGTCTGCCGGGCCAGCAACGGCATGGAGGCCTCCATC\n",
      "\n",
      "ACGGTCACAGTAACTGGGACCCAGGGGGCCAACTTAGCCTACCCTGCCGGCAGCACCCAG\n",
      "\n",
      "CCCATCCGCATCGAGCCCTCCTCCTCGCAAGTGGCGGAAGGGCAGACCCTGGATCTGAAC\n",
      "\n",
      "TGCGTGGTGCCCGGGCAGTCCCATGCCCAGGTCACGTGGCACAAGCGTGGGGGCAGCCTC\n",
      "\n",
      "CCTGTCCGGCACCAGACCCACGGCTCCCTGCTGAGACTCTACCAAGCGTCCCCCGCCGAC\n",
      "\n",
      "TCGGGCGAGTACGTGTGCCGAGTGTTGGGCAGCTCCGTGCCTCTAGAGGCCTCTGTCCTG\n",
      "\n",
      "GTCACCATTGAGCCTGCGGGCTCAGTGCCTGCACTTGGGGTCACCCCCACGGTCCGGATC\n",
      "\n",
      "GAGTCATCGTCTTCGCAAGTGGCCGAGGGGCAGACCCTGGACCTGAACTGCCTCGTTGCT\n",
      "\n",
      "GGTCAGGCCCATGCCCAGGTCACGTGGCACAAGCGCGGGGGCAGCCTCCCGGCCCGGCAC\n",
      "\n",
      "CAGGTGCATGGCTCGAGGCTACGCCTGCTCCAGGTGACCCCAGCTGATTCAGGGGAGTAC\n",
      "\n",
      "GTGTGCCGTGTGGTCGGCAGCTCAGGTACCCAGGAAGCCTCAGTCCTTGTCACCATCCAG\n",
      "\n",
      "CAGCGCCTTAGTGGCTCCCACTCCCAGGGTGTGGCGTACCCCGTCCGCATCGAGTCCTCC\n",
      "\n",
      "TCAGCCTCCCTGGCCAATGGACACACCCTGGACCTCAACTGCCTGGTTGCCAGCCAGGCT\n",
      "\n",
      "CCCCACACCATCACCTGGTATAAGCGTGGAGGCAGCTTACCCAGCCGGCACCAGATCGTG\n",
      "\n",
      "GGCTCCCGGCTGCGGATCCCTCAGGTGACTCCGGCAGACTCGGGCGAGTACGTGTGTCAC\n",
      "\n",
      "GTCAGTAACGGTGCAGGCTCCCGGGAGACCTCGCTCATCGTCACCATCCAGGGCAGCGGT\n",
      "\n",
      "TCCTCCCACGTGCCCAGCGTCTCCCCACCGATCAGGATCGAGTCGTCTTCCCCCACGGTG\n",
      "\n",
      "GTGGAAGGGCAGACCTTGGATCTGAACTGCGTGGTCGCCAGGCAGCCCCAGGCTATCATC\n",
      "\n",
      "ACATGGTACAAGCGTGGGGGCAGCCTTCCCTCCCGACACCAGACCCATGGCTCCCACCTG\n",
      "\n",
      "CGGTTGCACCAAATGTCTGTGGCTGACTCGGGCGAGTATGTGTGCCGGGCCAACAACAAC\n",
      "\n",
      "ATCGATGCCCTGGAGGCCTCCATCGTCATCTCCGTCTCCCCTAGCGCCGGCAGCCCCTCC\n",
      "\n",
      "GCCCCTGGCAGCTCCATGCCCATCAGAATTGAGTCATCCTCCTCACACGTGGCCGAAGGG\n",
      "\n",
      "GAGACCCTGGATCTGAACTGCGTGGTCCCCGGGCAGGCCCATGCCCAGGTCACTTGGCAC\n",
      "\n",
      "AAGCGTGGGGGCAGCCTCCCCAGTCACCATCAGACCCGCGGCTCACGGCTGCGGCTGCAC\n",
      "\n",
      "CATGTGTCCCCGGCCGACTCGGGTGAATACGTGTGCCGGGTGATGGGCAGCTCTGGCCCC\n",
      "\n",
      "CTGGAGGCCTCAGTCCTGGTCACCATCGAAGCCTCTGGCTCAAGTGCTGTCCACGTCCCC\n",
      "\n",
      "GCCCCAGGTGGAGCCCCACCCATCCGCATCGAGCCCTCCTCCTCCCGAGTGGCAGAAGGG\n",
      "\n",
      "CAGACCCTGGATCTGAAGTGCGTGGTGCCCGGGCAGGCCCACGCCCAGGTCACGTGGCAC\n",
      "\n",
      "AAGCGTGGAGGAAACCTCCCTGCCCGGCACCAGGTCCACGGCCCACTGCTGAGGCTGAAC\n",
      "\n",
      "CAGGTGTCCCCGGCTGACTCTGGCGAGTACTCGTGCCAAGTGACCGGAAGCTCAGGCACC\n",
      "\n",
      "CTGGAGGCATCTGTCCTGGTCACAATTGAGCCCTCCAGCCCAGGACCCATTCCTGCTCCA\n",
      "\n",
      "GGACTGGCCCAGCCCATCTACATCGAGGCCTCCTCTTCACACGTGACTGAAGGGCAGACT\n",
      "\n",
      "CTGGATCTGAACTGTGTGGTGCCCGGGCAGGCCCATGCCCAGGTCACGTGGTACAAGCGC\n",
      "\n",
      "GGGGGCAGCCTCCCCGCCCGGCACCAGACCCATGGCTCCCAGCTGCGGCTCCACCTCGTC\n",
      "\n",
      "TCCCCTGCCGACTCAGGCGAGTATGTGTGTCGTGCAGCCAGCGGCCCAGGCCCTGAGCAA\n",
      "\n",
      "GAAGCCTCCTTCACAGTCACCGTCCCGCCCAGTGAGGGGTCTTCCTACCGCCTTAGGAGC\n",
      "\n",
      "CCGGTCATCTCCATCGACCCGCCCAGCAGCACCGTGCAGCAGGGCCAGGATGCCAGCTTC\n",
      "\n",
      "AAGTGCCTCATCCATGACGGGGCAGCCCCCATCAGCCTCGAGTGGAAGACCCGGAACCAG\n",
      "\n",
      "GAGCTGGAGGACAACGTCCACATCAGTCCCAATGGCTCCATCATCACCATCGTGGGCACC\n",
      "\n",
      "CGGCCCAGCAACCACGGTACCTACCGCTGCGTGGCCTCCAATGCCTACGGTGTGGCCCAG\n",
      "\n",
      "AGTGTGGTGAACCTCAGTGTGCACGGGCCCCCTACAGTGTCCGTGCTCCCCGAGGGCCCC\n",
      "\n",
      "GTGTGGGTGAAAGTGGGAAAGGCTGTCACCCTGGAGTGTGTCAGTGCCGGGGAGCCCCGC\n",
      "\n",
      "TCCTCTGCTCGTTGGACCCGGATCAGCAGCACCCCTGCCAAGTTGGAGCAGCGGACATAT\n",
      "\n",
      "GGGCTCATGGACAGCCACGCGGTGCTGCAGATTTCATCAGCTAAACCATCAGATGCGGGC\n",
      "\n",
      "ACTTATGTGTGCCTTGCTCAGAATGCACTAGGCACAGCACAGAAGCAGGTGGAGGTGATC\n",
      "\n",
      "GTGGACACGGGCGCCATGGCCCCAGGGGCCCCTCAGGTCCAAGCTGAAGAAGCTGAGCTG\n",
      "\n",
      "ACTGTGGAGGCTGGACACACGGCCACCTTGCGCTGCTCAGCCACAGGCAGCCCCGCGCCC\n",
      "\n",
      "ACCATCCACTGGTCCAAGCTGCGTTCCCCACTGCCCTGGCAGCACCGGCTGGAAGGTGAC\n",
      "\n",
      "ACACTCATCATACCCCGGGTAGCCCAGCAGGACTCGGGCCAGTACATCTGCAATGCCACT\n",
      "\n",
      "AGCCCTGCTGGGCACGCTGAGGCCACCATCATCCTGCACGTGGAGAGCCCACCATATGCC\n",
      "\n",
      "ACCACGGTCCCAGAGCACGCTTCGGTGCAGGCAGGGGAGACGGTGCAGCTCCAGTGCCTG\n",
      "\n",
      "GCTCACGGGACACCCCCACTCACCTTCCAGTGGAGCCGCGTGGGCAGCAGCCTTCCTGGG\n",
      "\n",
      "AGGGCGACCGCCAGGAACGAGCTGCTGCACTTTGAGCGTGCAGCCCCTGAGGACTCAGGC\n",
      "\n",
      "CGCTACCGCTGCCGGGTCACCAACAAGGTGGGCTCAGCCGAGGCCTTTGCCCAGCTGCTC\n",
      "\n",
      "GTCCAAGCAGGGTCCACGCCCACCGTGCAGGTCACGCCTCAGCTAGAGACCAAGAGCATT\n",
      "\n",
      "GGGGCCAGCGTTGAGTTCCACTGTGCTGTGCCCAGCGACCGGGGTACCCAGCTCCGTTGG\n",
      "\n",
      "TTCAAGGAAGGGGGTCAGCTGCCTCCGGGTCACAGCGTGCAGGATGGGGTGCTCCGXXXX\n",
      "\n",
      "XXXXXXXXXXXXXXXXXXXXXXXXXXXXXXXXXXXXXXXXXXXXXXXXXXXXXXXXXXXX\n",
      "\n",
      "XXXXXXXXXXXXXXXXXXXXXXXXXXXXXXXXXXCCCTGCCCTCGGTGCTCATCAACATC\n",
      "\n",
      "CGGACCTCTGTGCAGACCGTGGTGGTTGGCCACGCCGTGGAGTTCGAATGCCTGGCACTG\n",
      "\n",
      "GGTGACCCCAAGCCTCAGGTGACATGGAGCAAAGTTGGAGGGCACCTGCGGCCAGGCATT\n",
      "\n",
      "GTGCAGAGCGGAGGTGTCGTCAGGATCGCCCACGTAGAGCTGGCTGATGCGGGACAGTAT\n",
      "\n",
      "CGCTGCACTGCCACCAACGCAGCTGGCACCACACAATCCCACGTCCTGCTGCTTGTGCAA\n",
      "\n",
      "GCCTTGCCCCAGATCTCAATGCCCCAAGAAGTCCGTGTGCCTGCTGGTTCTGCAGCTGTC\n",
      "\n",
      "TTCCCCTGCATAGCCTCAGGCTACCCCACTCCTGACATCAGCTGGAGCAAGCTGGATGGC\n",
      "\n",
      "AGCCTGCCACCTGACAGCCGCCTGGAGAACAACATGCTGATGCTGCCCTCAGTCCGACCC\n",
      "\n",
      "CAGGACGCAGGTACCTACGTCTGCACCGCCACTAACCGCCAGGGCAAGGTCAAAGCCTTT\n",
      "\n",
      "GCCCACCTGCAGGTGCCAGAGCGGGTGGTGCCCTACTTCACGCAGACCCCCTACTCCTTC\n",
      "\n",
      "CTACCGCTGCCCACCATCAAGGATGCCTACAGGAAGTTCGAGATCAAGATCACCTTCCGG\n",
      "\n",
      "CCCGACTCAGCCGATGGGATGCTGCTGTACAATGGGCAGAAGCGAGTCCCAGGGAGCCCC\n",
      "\n",
      "ACCAACCTGGCCAACCGGCAGCCCGACTTCATCTCCTTCGGCCTCGTGGGGGGAAGGCCC\n",
      "\n",
      "GAGTTCCGGTTCGATGCAGGCTCAGGCATGGCCACCATCCGCCATCCCACACCACTGGCC\n",
      "\n",
      "CTGGGCCATTTCCACACCGTGACCCTGCTGCGCAGCCTCACCCAGGGCTCCCTGATTGTG\n",
      "\n",
      "GGTGACCTGGCCCCGGTCAATGGGACCTCCCAGGGCAAGTTCCAGGGCCTGGATCTGAAC\n",
      "\n",
      "GAGGAACTCTACCTGGGTGGCTATCCTGACTATGGTGCCATCCCCAAGGCGGGGCTGAGC\n",
      "\n",
      "AGCGGCTTCATAGGCTGTGTCCGGGAGCTGCGCATCCAGGGCGAGGAGATCGTCTTCCAT\n",
      "\n",
      "GACCTCAACCTCACGGCGCACGGCATCTCCCACTGCCCCACCTGTCGGGACCGGCCCTGC\n",
      "\n",
      "CAGAATGGCGGTCAGTGCCATGACTCTGAGAGCAGCAGCTACGTGTGCGTCTGCCCAGCT\n",
      "\n",
      "GGCTTCACCGGGAGCCGCTGTGAGCACTCGCAGGCCCTGCACTGCCATCCAGAGGCCTGT\n",
      "\n",
      "GGGCCCGACGCCACCTGTGTGAACCGGCCTGACGGTCGAGGCTACACCTGCCGCTGCCAC\n",
      "\n",
      "CTGGGCCGCTCGGGGTTGCGGTGTGAGGAAGGTGTGACAGTGACCACCCCCTCGCTGTCG\n",
      "\n",
      "GGTGCTGGCTCCTACCTGGCACTGCCCGCCCTCACCAACACACACCACGAGCTACGCCTG\n",
      "\n",
      "GACGTGGAGTTCAAGCCACTCGCCCCTGACGGGGTCCTGCTGTTCAGCGGGGGGAAGAGC\n",
      "\n",
      "GGGCCTGTGGAGGACTTCGTGTCCCTGGCGATGGTGGGCGGCCACCTGGAGTTCCGCTAT\n",
      "\n",
      "GAGTTGGGGTCAGGGCTGGCCGTTCTGCGGAGCGCCGAGCCGCTGGCCCTGGGCCGCTGG\n",
      "\n",
      "CACCGTGTGTCTGCAGAGCGTCTCAACAAGGACGGCAGCCTGCGGGTGAATGGTGGACGC\n",
      "\n",
      "CCTGTGCTGCGCTCCTCGCCCGGCAAGAGCCAGGGCCTCAACCTGCACACCCTGCTCTAC\n",
      "\n",
      "CTGGGGGGTGTGGAGCCTTCCGTGCCACTGTCCCCGGCCACCAACATGAGCGCTCACTTC\n",
      "\n",
      "CGCGGCTGTGTGGGCGAGGTGTCAGTGAATGGCAAACGGCTGGACCTCACCTACAGTTTC\n",
      "\n",
      "CTAGGCAGCCAGGGCATCGGGCAATGCTATGATAGCTCCCCATGTGAGCGCCAGCCTTGC\n",
      "\n",
      "CAACATGGTGCCACGTGCATGCCCGCTGGCGAGTATGAGTTCCAGTGCCTGTGTCGAGAT\n",
      "\n",
      "GGATTCAAAGGAGACCTGTGTGAGCACGAGGAGAACCCCTGCCAGCTCCGTGAACCCTGT\n",
      "\n",
      "CTGCATGGGGGCACCTGCCAGGGCACCCGCTGCCTCTGCCTCCCTGGCTTCTCTGGCCCA\n",
      "\n",
      "CGCTGCCAACAAGGCTCTGGACATGGCATAGCAGAGTCCGACTGGCATCTTGAAGGCAGC\n",
      "\n",
      "GGGGGCAATGATGCCCCTGGGCAGTACGGAGCCTATTTCCACGATGATGGCTTCCTCGCC\n",
      "\n",
      "TTCCCTGGCCATGTCTTCTCCAGGAGCCTGCCCGAGGTGCCCGAGACCATCGAGCTGGAG\n",
      "\n",
      "GTTCGGACCAGCACAGCCAGTGGCCTCCTGCTCTGGCAGGGTGTGGAGGTGGGAGAGGCC\n",
      "\n",
      "GGCCAAGGCAAGGACTTCATCAGCCTCGGGCTTCAAGACGGGCACCTTGTCTTCANNNNN\n",
      "\n",
      "NNNNNNNNNNNNNNNNNNNNNNNNNNGTACCAGCTGGGTAGTGGGGAGGCCCGCCTGGTC\n",
      "\n",
      "TCTGAGGACCCCATCAATGACGGCGAGTGGCACCGGGTGACAGCACTGCGGGAGGGCCGC\n",
      "\n",
      "AGAGGTTCCATCCAAGTCGACGGTGAGGAGCTGGTCAGCGGCCGGTCCCCAGGTCCCAAC\n",
      "\n",
      "GTGGCAGTCAACGCCAAGGGCAGCGTCTACATCGGCGGAGCCCCTGACGTGGCCACGCTG\n",
      "\n",
      "ACCGGGGGCAGATTCTCCTCAGGCATCACAGGCTGTGTCAAGAACCTGGTGCTGCACTCG\n",
      "\n",
      "GCCCGACCCGGCGCCCCGCCCCCACAGCCCCTGGACCTGCAGCACCGCGCCCAGGCCGGG\n",
      "\n",
      "GCCAACACACGCCCCTGCCCCTCGTAG\n",
      "\n",
      ">chimp\n",
      "\n",
      "NAAATTCCCGGAGACCAGGTTGTCAGTGTGGTGTTCATCAAGGAGCTGGATGGCTGGGTT\n",
      "\n",
      "TTTGTGGAGCTGGATGTGGGCTCGGAAGGGAATGCGGATGGGGCTCAGATTCAGGAGGTG\n",
      "\n",
      "CTGCTCAGGGTCATCTCCAGCGGCTCCATGGCCTCCTACATCACCTCTCCCCAGGGATTC\n",
      "\n",
      "CAGTTCCGACGCCTGGGCACAGTGCCCCAGTTCCCAAGAGCCTGCACAGAGGCCGAGTTT\n",
      "\n",
      "GCCTGCCACAGCTACAATGAGTGTGTGGCCCTGGAGTATCGCTGTGACCGGCGGCCCGAC\n",
      "\n",
      "TGCAGGGACATGTCTGATGAGCTCAATTGTGXXXXXXXXXXXXXXXXXXXXXXXXXXXXX\n",
      "\n",
      "XXXXXXXXXXXXXXXXXXXXXXXXXXXXXXXXXXXXXXXXXXXXXXXXXXXXXXXXXXXX\n",
      "\n",
      "XXXXXXXXXXXXXXXXXXXXXXXXXXXXXXXXXXXXXXXXXXXXXXXXXNNNNNXXXXXX\n",
      "\n",
      "XXXXXXXXXNXXXXXXXXXXXXXXXXXXXXXXXXXXXXXXXXXXXXXXXXXXXXXXXXXX\n",
      "\n",
      "XXXXXXXXXXXXXXXXXXXXXXXXXXXXXXXXXXXXXXXXXXXXXXXXXXXXXXXXXXXX\n",
      "\n",
      "XXXXXXXXXXXXXXXXXXXXXXXXXXXXXXXXXXXXXXXXXXXXXXXXXXXXXXXXXXXX\n",
      "\n",
      "XXXXXXXXXXXXXXXXXXXXXXXXXXXXXXXXXXXXXXXXXXXXXXXXXCCACCAAGCGT\n",
      "\n",
      "CCTGAGGAAGTGTGCGGGCCCACACAGTTCCGATGCGTCTCTACCAACATGTGCATCCCA\n",
      "\n",
      "GCCAGCTTCCACTGTGACGAGGAGAGTGACTGTCCTGACCGGAGTGACGAGTTTGGCTGC\n",
      "\n",
      "AXXXXXXXXXXXXXXXXXXXXXXXXXXXXXXXXXXXXXXXXXXXXXXXXXXXXXXXXXXX\n",
      "\n",
      "XXXXXXXXXXCCTGCGTGGCCATTGGCGTCCCCACCCCNNTCATCAATTGGAGGCTCAAC\n",
      "\n",
      "TGGGGCCACATCCCCTCTCATCCCAGGGTGACAGTGACCAGCGAGGGTGGCCGTGGCACA\n",
      "\n",
      "CTGATCATCCGTGATGTGAAGGAGTCAGACCAGGGTGCCTACACCTGTGAGGCCATGAAC\n",
      "\n",
      "GCCCGGGGCATGGTGTTTGGCATTCCTGACGGTGTCCTTGAGCTCGTCCCACAACGAGCA\n",
      "\n",
      "GGCCCCTGCCCTGACGGCCACTTCTACCTGGAGCACAGCGCCGCCTGCCTGCCCTGCTTC\n",
      "\n",
      "TGCTTTGGCATCACCAGCGTGTGCCAGAGCACCCGCCGCTTCCGGGACCAGATCAGGCTG\n",
      "\n",
      "CGCTTTGACCAACCCGATGACTTCAAGGXXGTGAATGTGACAATGCCTGCGCAGCCCGGC\n",
      "\n",
      "ATGCCACCCCTCTCCTCCACGCAGCTGCAGATCGACCCATCCCTGCACGAGTTCCAGCTA\n",
      "\n",
      "GTCGACCTGTCCCGCCGCTTCCTCGTCCACGACTCCTTCTGGGCTCTGCCTGAACAGTTC\n",
      "\n",
      "CTGGGCAACAAGGTGGACTCCTATGGCGGCTCCCTGCGTTACAACGTGCGCTACGAGTTG\n",
      "\n",
      "GCCCGTGGCATGCTGGAGCCAGTGCAGCGGCCGGACGTGGTCCTCGTGGGTGCCGGGTAC\n",
      "\n",
      "CGCCTCCTCTCCCGAGGCCACACACCCACCCAACCTGGTGCTCTGAACCAGCGCCAGGTC\n",
      "\n",
      "CAGTTCTCTGAGGAGCACTGGGTCCATGAGTCTGGCCGGCCAGTGCAGCGCGTGGAGCTG\n",
      "\n",
      "CTGCAGGTGCTGCAGAGCTTGGAGGCCGTGCTCATCCAGACCGTGTACAACACCAAGATG\n",
      "\n",
      "GCCAGTGTGGGACTTAGCGACATCGCCATGGATACCACCGTCACCCATGCCACCAGCCAT\n",
      "\n",
      "GGCCGTGCCCACAGTGTGGAGGAGTGCAGATGCCCCATTGGCTATTCTGGCTTGTCCTGC\n",
      "\n",
      "GAGAGCTGTGATGCCCACTTCACTCGGGTGCCTGGTGGGCCCTACCTGGGCACCTGCTCT\n",
      "\n",
      "GGTTGCAATTGCAATGGCCATGCCAGCTCCTGTGACCCTGTGTATGGCCACTGCCTGAAT\n",
      "\n",
      "TGCCAGCACAACACAGAGGGGCCACAGTGCAACAAGTGCAAGGCTGGCTTCTTTGGGGAC\n",
      "\n",
      "GCCATGAAGGCCACGGCCACTGCCTGCCGGCCCTGCCCTTGCCCATACATCGATGCCTCC\n",
      "\n",
      "CGCAGATTCTCAGACACTTGCTTCCTGGACACGGATGGCCAAGCCACATGTGACGCCTGT\n",
      "\n",
      "GCCCCAGGCTACACTGGCCGCCGCTGTGAGAGCTGTGCCCCCGGATACGAGGGCAACCCC\n",
      "\n",
      "ATCCAGCCCGGCGGGAAGTGCAGGCCCGTCAACCAGGAGATTGTGCGCTGTGACGAGCGT\n",
      "\n",
      "GGCAGCATGGGGACCTCCGGGGAGGCCTGCCGCTGTAAGXXXXXXXXXXXXXXXXXXXXX\n",
      "\n",
      "XXXXXXXXXXXXXXXXXXXXXXXXXXXXXXXXXXXXXXXXXXXXXXXXXXXXXXXXXXXX\n",
      "\n",
      "XXXXXXXXXXXXXXXXXXXXXXXXXXXXXXXXXXXXXXXXXXXXXXXXXXXXXXXXXXXX\n",
      "\n",
      "XTGCATGGGGCCTCTGAGGAGCCTGGTCACTTCAGCCTGACCAACGCCGCAAGCACCCAC\n",
      "\n",
      "ACCACCAACGAGGGCATCTTCTCCCCCACGCCCGGGGAACTGGGATTCTCCTCCTTCCAC\n",
      "\n",
      "AGACTCTTATCTGGACCCTACTTCTGGAGCCTCCCTTCACGCTTCCTGGGGGACAAGXXX\n",
      "\n",
      "XXXXXXXXXXXXXXXGAGCTGCGCTTCACAGTGACCCAXXXXXXXXXXXXXXXXXXXXXX\n",
      "\n",
      "XXXXXXXXXXXXXXXXXXXXXXXXXXXXXXXXXXXXXXXXXXXXXXXXXXXXXXXXXXXX\n",
      "\n",
      "XXXXXXXXXXXXXXXXXXXXXXXXXXXXXXXXXXXXXXXXXXXXXXXXXXXXXXXXXCAA\n",
      "\n",
      "GCATGGCAGCGGCCCGATGGGCAGCCGGCCACACGCGAGCACCTCCTGATGGCACTGGCA\n",
      "\n",
      "GGCATCGACACCCTCCTGATCCGAGCATCCTACGCCCAGCAGCCCGCTGAGAGCAGGGTC\n",
      "\n",
      "TCTGGCATCAGCATGGACGTGGCTGTGCCCGAGGAAACCGGCCAGGACCCTGCGCTGGAA\n",
      "\n",
      "GTGGAACAGTGCTCCTGCCCACCCGGGTACCGTGGGCCGTCCTGCCAGGACTGTGACACA\n",
      "\n",
      "GGCTACACACGCACGCCCAGTGGCCTCTACCTGGGTACCTGCGAACGCTGCAGCTGCCAT\n",
      "\n",
      "GGCCACTCAGAGGCCTGCGAGCCCGAAACAGGTGCCTGCCAGXXCTGCCAGCATCACACA\n",
      "\n",
      "GAGGGCCCTCGGTGTGAGCAGTGCCAGCCAGGATACTACGGGGACGCCCAGCGGGGGACA\n",
      "\n",
      "CCACAGGACTGCCAGCTGTGCCCCTGCTACGGAGACCCTGCTGCCGGCCAXXXXXXXXXX\n",
      "\n",
      "XXXXXXXXXXXXXXXXXXXXXXXXXXXXXXXXXXXXXXXXXXXXXXXXXXXXXXXXXXXX\n",
      "\n",
      "XXXXXXXXXXXXXXXXXGTGCGCCCCTGGCTACTATGGCAACCCCAGCCAGGGCCAGCCA\n",
      "\n",
      "TGCCAGAGAGACAGCCAGGTGCCAGGGCCCATAGGCTGCAACTGTGACCCCCAAGGCAGC\n",
      "\n",
      "GTCAGCAGCCAGTGTGATGCTGCTGGTCAGTGCCAGTGCAAGXXXXXXXXXXXXXXXXXX\n",
      "\n",
      "XXXXXXXXXXXXXXXXXXXXCCACCACTTCCXCXXXAGTGCCAGCAACCCAGACGGCTGC\n",
      "\n",
      "CTXXXXXXXTTCTGTATGGGCATCACCCAGCAGTGCGCCAGCTCXXXXXXXXXXXXXXXX\n",
      "\n",
      "XXXATCTCCACCCACTTTGCCCCTGGGGACTTCCAAGGCTTTGCCCTGGTGAACCCACAG\n",
      "\n",
      "CGAAACAGCCGCCTGACAGGAGAATTCACTGTGAAGCCCGTGCCCGAGGGTGCCCAGCTC\n",
      "\n",
      "TCTTTTGGCAACTTTGCCCAACTCGGCCATGAGTCCTTCTACTGGCAGCTGCCGGAGACA\n",
      "\n",
      "TACCAGGGAGACAAGGTGGCGGCCTACGGTGGGAAGTTGCGATACACCCTCTCCTACACA\n",
      "\n",
      "GCAGGCCCACAGGGCAGCCCGCTCTCTGACCCCGATGTGCAGATCACGGGCAACAACATC\n",
      "\n",
      "ATGCTAGTAGCCTCCCAGCCAGCGCTGCAGGGCCCCGAGAGGXXXAGCTACGAGATCGTG\n",
      "\n",
      "TTCCGAGAGXXNNNNTTCTGGCGCCGGCCCGATGGGCAGCCGGCCACACGCGAGCACCTC\n",
      "\n",
      "CTGATGGCACTGGCCGACCTGGATGAGCTCCTGATCCGGGCCACGTTCTCCTCCGTGCCG\n",
      "\n",
      "CTGGCGGCCAGCATCAGCGCAGTCAGCCTGGAGGTCGCCCAGCCGGGGCCCTCAAACGGA\n",
      "\n",
      "CCCCGCGCCCTTGAGGTGGAGGAGTGCCGCTGCCCGCCAGGCTACATAGGTCTGTCCTGC\n",
      "\n",
      "CAGGACTGTGCCCCCGGCTACACGCGCACCGGGAGTGGGCTCTACCTCGGCCACTGCGAG\n",
      "\n",
      "CTATGTGAATGCAATGGCCACTCAGACCTGTGCCACCCAGAGACTGGGGCCTGCTCGXXX\n",
      "\n",
      "XXXXXXXXXXXXXXXXXXXXXXXXXXXXXXXXXXXXXXXXXXXXXXXXXXXXXXXXXXXX\n",
      "\n",
      "XXXXXXXXXXXXXXXXXXXXXXXXXXXXXXXXXXXXXXXXXXXXXXXXXXXXXXXXXXXX\n",
      "\n",
      "XXXXXGTTTTCCCGCACCTGTGAGAGCCTGGGAGCCGGCGGGTACCGCTGCACXXXXXXX\n",
      "\n",
      "XXXXXXXXXXXXXXXXXXXXXXXXXXXXXXXXGTGTGGCCCAGGTTACGTGGGTAACCCC\n",
      "\n",
      "AGTGTGCAAGGGGGCCGGTGCCTGCCAGAGAXXXXXXXXXXXXXXXXXXXXXXXXXXXXX\n",
      "\n",
      "XXXXXXXXXXXXXXXXXXXXXXXXXXXXXXXXXXXXXXXXXXXXXXXXXXXXXXXXXXXX\n",
      "\n",
      "XXXXXXXXXXXXXXXXXXXXXXXXTGGTCCCGTGAGGATGGGCXXXXXXXGCCCAGCGGC\n",
      "\n",
      "ACCCAGCAXCGACATCAAGXXXXXXXXXXXXXXXXXXXXXXXXXXXXXXXXXXXXXXXXX\n",
      "\n",
      "XXXXXXXXXXXXXXXXXXXXXXXXXXXXXXXXXXXXXXXXXXXXXXXXXXXXXXXXXXXX\n",
      "\n",
      "XXXXXXXXXXXXXXXXXXAGCAAGCCCATCACAGTGACAGTGGAGGAGCAGCGGAGCCAG\n",
      "\n",
      "AGCGTGCGCCCCGGAGCTGACGTCACCTTCATXXGCACAGCCAAAAGCAAGTCCCCAGCC\n",
      "\n",
      "TATACCCTGGTGTGGACCCGCCTGCACAACGGGAAACTGCCCACCCGAGCCATGGATTTC\n",
      "\n",
      "AATGGCATCCTGACCATTCGCAACGTCCAGCTGAGTGATGCAGGCACCTACATGTGCACC\n",
      "\n",
      "GGCTCCAACATGTTTGCCATGGACCAGGGCACAGCCACTCTACATGTGCAGGXXXXXGGC\n",
      "\n",
      "ACCTTTTCCGCCCCCGTGGTCTCCATCCATCCGCCACAGCTCACAGTGCAGCCCGGGCAA\n",
      "\n",
      "CTGGCGGAGTTCCGCTGCAGCGCCACAGGGAGCCCCACGCCCACCCTCGAGTGGACAGGG\n",
      "\n",
      "GGCCCCGGCGGCCAGCTCCCTGCGAAGGCACAAATCCACGGCGGCATCCTGCGCCTGCCA\n",
      "\n",
      "GCCGTCGAGCCCACGGATCAGGCCCAGTACTTGTGCCGAGCCCACAGCAGTGCTGGGCAG\n",
      "\n",
      "CAGGTGGCCAGGGCTGTGCTCCACGTGCATGGGGGCGGTGGGCCCAGAGTCCAAGTGAGC\n",
      "\n",
      "CCAGAGAGGACCCAGGTCCACGAAGGCCGCACCGTCAGGCTGTACTGCAGGGCTGCAGGC\n",
      "\n",
      "GTGCCTAGCGCCACCATCACCTGGAGGAAGGAAGGGGGCAGCCTCCCACCACAGGCCCGG\n",
      "\n",
      "TCAGAGCGCACAGACATCGCGACACTGCTCATCCCAGCCATCACGACTGCTGACGCCGGC\n",
      "\n",
      "TTCTACCTCTGCGTGGCCACCAGCCCCGCAGGCACTGCCCAGGCCCGGATCCAAGTGGTT\n",
      "\n",
      "GTCCTTTCAGCCTCAGATGCCAGCCCACCGCCGGTCAAGATTGAGTCCTCATCGCCTTCT\n",
      "\n",
      "GTGACAGAAGGGCAAACACTCGACCTCAACTGTGTGGTGGCAGGGTCAGCCCATGCCCAG\n",
      "\n",
      "GTCACCTGGTACAGGCGAGGGGGTAGCCTGCCTCCCCACACCCAGXXXCACGGCTCCCGT\n",
      "\n",
      "CTGCGGCTCCCCCAGGTCTCACCAGCTGATTCTGGAGAATATGTGTGCCGTGTGGAGAAT\n",
      "\n",
      "GGATCGGGCCCCAAGGAGGCCTCCATTACTGTGTCTGTCCTCCACGGCACCCATTCTGGC\n",
      "\n",
      "CCCAGCTACACCCCAGXXXCCGGCAGCACTCAGCCCATCCGCATTGAGCCCTCCTCCTCA\n",
      "\n",
      "CAAGTGGCCGAAGGGCAGACCCTGGATCTGAACTGCGTGGTGCCCGGGCAGTCCCATGCC\n",
      "\n",
      "CAGGTCACATGGCACAAGCGTGGGGGCAGCCTCCCTGTCCGGCACCAGACCCACGGCCCA\n",
      "\n",
      "CTGCTGAGGCTGAACCAGGTGTCCCCGGCTGACTCTGGCGAGTACGTGTGCCGTGTGGTC\n",
      "\n",
      "GGCAGCTCAGGTACCCAGGAAGCCTCAGTCCTTGTCACCATCGAAGCCTCTGXXXXXXXX\n",
      "\n",
      "XGACCCGTCCCACCTGTCAGGATCGAGTCCTCTTCCCCCACAGTGGCCGAAGGGCAGACC\n",
      "\n",
      "CTGGATCTGAACTGCGTGGTGCCCGGGCAGTCCCATGCCCAGGTCACATGGCACAAGCGT\n",
      "\n",
      "GGGGGCAGCCTCCCTGTCCGGCACCAGGTTCGTGGCTCCCGCCTGTACATCTTCCAGGCC\n",
      "\n",
      "TCACCTGCCGATGCGGGACAGTACGTCTGCCGGGCCAGCAACGGCATGGAGGCCTCCATC\n",
      "\n",
      "ACGGTCACAGTAACTGGGACCCAGGGGGCCAACTTAGCCTACCCTGCCGGCAGCACTCAG\n",
      "\n",
      "CCCATCCGCATTGAGCCCTCCTCCTCACAAGTGGCCGAAGGGCAGACCCTGGATCTGAAC\n",
      "\n",
      "TGCGTGGTGCCCGGGCAGTCCCATGCCCAGGTCACATGGCACAAGCGTGGGGGCAGCCTC\n",
      "\n",
      "CCTGTCCGGCACCAGACCCACGGCTCACGGCTGCGGCTGCACCAGGTGTCCCCGGCCGAC\n",
      "\n",
      "TCGGGTGAATACGTGTGCCGGGTGATGGGCAGCTCTGGCCCCCTGGAGGCCTCAGTCCTG\n",
      "\n",
      "GTCACCATTGAGCCTGCGGGCTCGGTGCCTGCACTTGGGGTCACCCCCACAGTCCGGATC\n",
      "\n",
      "GAGTCATCATCTTCGCAAGTGGCCGAAGGGCAGACCCTGGATCTGAACTGCGTGGTGCCC\n",
      "\n",
      "GGGCAGTCCCATGCCCAGGTCACATGGCACAAGCGTGGGGGCAGCCTCCCTGTCCGGCAC\n",
      "\n",
      "CAGGTGCATGGCTCGAGGCTACGCCTGCTCCAGGTGACCCCAGCTGATTCAGGGGAGTAC\n",
      "\n",
      "GTGTGCCGTGTGGTCGGCAGCTCAGGTACCCAGGAAGCCTCAGTCCTTGTCACCATCCAG\n",
      "\n",
      "CAGCGCCTTAGTGGCTCCCACTCCCAGGGTGTGGCGTACCCCGTCCGCATCGAGTCCTCC\n",
      "\n",
      "TCAGCCTCCCTGGCCAATGGACACACCCTXXXXXXXXXXXXXXXXXXXXXXXXXXXXXXX\n",
      "\n",
      "XXXXXXXXXXXXXXXXXXXXXXXXXXXXXXXXXXXXXXXXXXXXXXXXXXXXXXXXXXXX\n",
      "\n",
      "XXXXXXXXXXXXXXXXXXXXXXXXXXXXXXXXXXXXXXXXXXXXXXXXXXXXXXXXXXXX\n",
      "\n",
      "XXXXXXXXXXXXXXXXXXXXXXXXXXXXXXXXXXXXXXXXXXXXXXXXXXXXXXXXXXXX\n",
      "\n",
      "XXXXXXXXXXTGCCCAGCGTCTCCCCACCAATCAGGATCGAGTCCTCTTCCCCCACGGTG\n",
      "\n",
      "GTGGAAGGGCAGACCCTGGATCTGAACTGCGTGGTGCCCGGGCAGTCCCATGCCCAGGTC\n",
      "\n",
      "ACATGGCACAAGCGTGGGGGCAGCCTTCCCTCCCGACACCAGACCCATGGCTCCCACCTG\n",
      "\n",
      "CGGTTGCACCAAATGTCTGTGGCTGACTCGGGCGAGTATGTGTXXXXXXXXXXXXXXXXX\n",
      "\n",
      "XXXXXXXXXXXXXXXXXXXXXXXXXXXXXXXXXXXXXXXXXXXXXXXXXXXXXXXXXXXX\n",
      "\n",
      "XXXCCTGGCAGTTCCATGCCCATCCGCATTGAGCCCTCCTCCTCACAAGTGGCCGAAGGG\n",
      "\n",
      "CAGACCCTGGATCTGAACTGCGTGGTGCCCGGGCAGTCCCATGCCCAGGTCACATGGCAC\n",
      "\n",
      "AAGCGTGGGGGCAGCCTCCCCAGTCACCATCAGACCCACGGCTCACGGCTGCGGCTGCAC\n",
      "\n",
      "CAGGTGTCCCCGGCCGACTCGGGTGAATACGTGTGCCGTGTGGTCGGCAGCTCAGGTACC\n",
      "\n",
      "CAGGAAGCCTCAGTCCTTGTCACCATCGAAGCCTCTGGCTCAAGTGCTGTCCACGTCCCC\n",
      "\n",
      "GXXXXXXXXXXXXXXXXXCCCATCCGCATTGAGCCCTCCTCCTCACAAGTGGCCGAAGGG\n",
      "\n",
      "CAGACCCTGGATCTGAACTGCGTGGTGCCCGGGCAGTCCCATGCCCAGGTCACATGGCAC\n",
      "\n",
      "AAGCGTGGGGGCAGCCTCCCTGTCCGGCACCAGGTCCACGGCCCACTGCTGAGGCTGAAC\n",
      "\n",
      "CAGGTGTCCCCGGCTGACTCTGGCGAGTACTCGTGCCAAGTGACCGGAAGCTCAGGCACC\n",
      "\n",
      "CTGGAGGCATCTGTCCTGGTCACAATTGAGCCCTCCAGCCCAGGACCCATTCCTGCTCCA\n",
      "\n",
      "GGACTGGCCCAGCCCATCCGCATTGAGCCCTCCTCCTCACAAGTGGCCGAAGGGCAGACC\n",
      "\n",
      "CTGGATCTGAACTGCGTGGTGCCCGGGCAGTCCCATGCCCAGGTCACATGGCACAAGCGT\n",
      "\n",
      "GGGGGCAGCCTCCCTGTCCGGCACCAGACCCATGGCTCCCAGCTGCGGCTCCACCACGTC\n",
      "\n",
      "TCCCCTGCCGACTCAGGCGAGTATGTGTGTCGTGCAGCCGGCGGCCCAGGCCCTGAGCAA\n",
      "\n",
      "GAAGCCTCCTTCACAGTCACCGTCCCGCCCAGTGAGGGGTCTTCCTACCGCCTTAGGAGC\n",
      "\n",
      "CCGGTCATCTCCATCGACCCGCCCAGCAGCACCGTGCAGCAGGGCCAGGATGCCAGCTTC\n",
      "\n",
      "AAGTGCCTCATCCATGATGGGGCAGCCCCCATCAGCCTCGAGTGGAAGACCCGGAACCAG\n",
      "\n",
      "GAGCTGGAGGACAACGTCCACATCAGTCCCAATGGCTCCATCATCACCAXXXTGGGCACC\n",
      "\n",
      "CGGCCCAGCAACCACGGTAXCTACCGCTGCXTGGCCTCCAATGCCTACGGTGTGGCCCAG\n",
      "\n",
      "AGTGTGGTGAACCTCAGTGTGCACGGGCCCCCTACAGTGTCCGTGCTCCCCGAGGGCCCC\n",
      "\n",
      "GTGTGGGTGAAAGTGGGAAAGGCTGTCACCCTGGAGTGTGTCAGTGCCGGGGAGCCCCGC\n",
      "\n",
      "TCCTCTGCTCGTTGGACCCGGATCAGCAGCACCCCTGCCAAGTTGGAGCAGCGGACATAT\n",
      "\n",
      "GGGCTCATGGACAGCCACGCGGTGCTGCAGATTTCATCAGCTAAACCATCAGATGCGGGC\n",
      "\n",
      "ACTTATGTGTGCCTTGCTCAGAATGCACTAGGCACAGCACAGAAGCAGGTGGAGTTGATC\n",
      "\n",
      "GTGGACACGGGCGCCATGGCCCCAGGGGCCCCTCAGGTCCAAGCTGAAGAAGCTGAGCTG\n",
      "\n",
      "ACTGTGGAGGCTGGACACACGGCCACCTTGCGCTGCTCAGCCACAGGCAGCCCCGCGCCC\n",
      "\n",
      "ACCATCCACTGGTCCAAGCTGCGTTCCCCACTGCCCTGGCAGCACCGGCTGGAAGGTGAC\n",
      "\n",
      "ACACTCATCATACCCCGGGTAGCCCAGCAGGACTCGGGCCAGTACATCTGCAATGCCACT\n",
      "\n",
      "AGCCCTGCCGGGCACGCTGAGGCCACCATCATCCTGCACGTGGAGAXXXXXXXXXXXXXX\n",
      "\n",
      "XXXXXXXXXXXXXXXXXXXXXXXXXXXXXXXXXXXXXXXXXXXXXXXXXXXXXXXXXXXX\n",
      "\n",
      "XXXXXXXXXXXXXXXXXXXXXXXXXXXXXXXXXXXXXXXXXXXXXXXXXXXXXXXXXXXX\n",
      "\n",
      "XXXXXXXXXXXXXXXXXXXXXXXXXXXXXXXXXXXXXXXXXXXXXXXXXXXXXXXXXXXX\n",
      "\n",
      "XXXXXXXXXXXXXXXXXXXXXXXXXXXXXXXXXXXXXXXXXXXXXXXXXXXXXXXXXXXX\n",
      "\n",
      "XXXXXXXCAGGGTCCACGCCCACCGTGCAGGTCACGCCTCAGCTAGAGACCAAGAGCATT\n",
      "\n",
      "GGGGCCAGCGTTGAGTTCCACTGTGCTGTGCCCAGCGACCGGGGTACCCAGCTCCGTTGG\n",
      "\n",
      "TTCAAGGAAGGGGGCCAGCTGCCTCCGGGTCACAGCGTGCAGGATGGGGTGCTCCGXXXX\n",
      "\n",
      "XXXXXXXXXXXXXXXXXXXXXXXXXXXXXXXXXXXXXXXXXXXXXXXXXXXXXXXXXXXX\n",
      "\n",
      "XXXXXXXXXXXXXXXXXXXXXXXXXXXXXXXXXXCCCTGCCCTCGGTGCTCATCAACATC\n",
      "\n",
      "CGGACCTCTGTGCAGACTGTGGTGGTTGGCCACGXXXXGGAGTTCGAATGCCTGGCACTG\n",
      "\n",
      "GGTGACCCCAAGCCTCAGGTGACATGGAGCAAAGTTGGAGGGCACCTGCGGCCXXXXXXX\n",
      "\n",
      "XXXXXXXXXXXXXXXXXXXXXXXXXXXXXXXXXXXXXXXXXXXXXXXXXXXXXXXXXXXX\n",
      "\n",
      "XXXXXXXXXXXXXXXXXXXXXXXXXXXXXXXXXXXXXXXXXXXXXXXXXXXXXXXXXXXX\n",
      "\n",
      "XCCTTGCCCCAGATCTCAATGCCCCAAGAAGTCCGTGTGCCTGCTGGTTCTGCAGCTGTC\n",
      "\n",
      "TTCCCCTGCATAGCCTCAGGCTACCCCACTCCTGACATCAGCTGGAGCAAGXXXXXXXXX\n",
      "\n",
      "XXXCTGCCACCTGACAGCCGCCTGGAGAACAACATGCTGATGCTGCCCTCAGTCCGACCC\n",
      "\n",
      "CAGGACGCAXXXXXXTACGTCTGCACCGCCACTXXCCGCCAGGGCAAGGTCAAAGCCTXX\n",
      "\n",
      "GCCCACCTGCAGGTGCCAGAGCGGGTGGTGCCCTACTTCACGCAGACCCCCTACTCCTTC\n",
      "\n",
      "CTACCACTGCCCACCATCAAGGATGCCTACAGGAAGTTCGAGATCAAGATCACCXTCCGG\n",
      "\n",
      "CCCXXXXXXXXXXXXXXXXXXXXXXXXXXXXXXXXXXXXXXXXXXXXXXXXXXXXXXXXX\n",
      "\n",
      "XXXXXXXXXXXXXXXXXXXXXXXXXXXXXXXXXXXXXXXXXXXXXXXXXXXXXXXXXXXX\n",
      "\n",
      "XXXXXXXXXXXXXXXXXXXXXXXXXXXXXXXXXXXXXXXXXXXXXXXXXXXXXXXXXXXX\n",
      "\n",
      "XXXXXXXXXXXXXXXXXXXXXXXXXXXXXXXXXXXXXXXXXXXXXXXXXXXCTGATTGTG\n",
      "\n",
      "GGTGACCTGGCCCCGGTCXACGGGACCTCCCAGGGCAAGTTCCAGGGCCTGGACCTGAAC\n",
      "\n",
      "GAGGAACTCTACCTGGGTGGCTACCCTGACTATGGTGCCATCCCCAAGGCGGGGCTGAGC\n",
      "\n",
      "AGTGGCTTCATAGGCTGTGTGCGGGAGCTGCGCATCCAGGGCGAGGAGATCGTCTTCCAT\n",
      "\n",
      "GATCTCAACCTCACGGCGCACGGCATCTCCCACTGCCCCACCTGTCGGGACCGGCCCTGC\n",
      "\n",
      "CAGAATGGCGGTCAGTGCCATGACTCTGAGAGCAGCAGCTACGTGTGCGTCTGCCCAGCT\n",
      "\n",
      "GGCTTCACCGGGAGCCGCTGTGAGCACTCGCAGGCCCTGCACTGCCATCCAGAGGCCTGT\n",
      "\n",
      "GGGCCCGACGCCACCTGTGTGAACCGGCCTGACGGTCGAGGCTACACCTGCCGCTGCCAC\n",
      "\n",
      "CTGGGCCGCTCGGGGTTGCGGTGTGAGGAAGGTGTGACAGTGACCACCCCTTCGCTGTCG\n",
      "\n",
      "GGTGCTGGCTCCTACCTGGCACTGCCCGCCCTCACCAACACACACCACGAXCTACGCCTG\n",
      "\n",
      "GACGTGGAGTTCAAGCCACTCGCCCCTGACGGGGTCCTGCTGTTCAGCGGGGGGAAGAGC\n",
      "\n",
      "GGGCCTGTGGAGGACTTCGTGTCCCTGGCGATGGTGGGCGGCCACCTGGAGTTCCGCTAT\n",
      "\n",
      "GAGTTAGGGTCAGGGCTGGCCGTTCTGCGGAGCGCCGAGCCGCTGGCCCTAGGCCGCTGG\n",
      "\n",
      "CACCGCGTGTCTGCAGAGCGTCTCAACAAGGACGGCAGCCTGCGGGTGAATGGGGGACGC\n",
      "\n",
      "CCTGTGCTGCGCTCCTCGCCCGGCAAGAGCCAGGGCCTCAACCTGCACACCCTGCTCTAC\n",
      "\n",
      "CTGGGGGGTGTGGAGCCTTCCGTGCCACTGTCCCCAGCCACCAACATGAGCGCTCACTTC\n",
      "\n",
      "CGCGGCTGTGTGGGCGAGXXXXXXXXXXXXXXXXXXXXXXXXXXXXXXXXXXXXXXXXXX\n",
      "\n",
      "XXXXXXXXXXXXXXXXXXXXXXXXXXXXXXXXXXXXXXXXXXXXXXXXXXXXXXXXXXXX\n",
      "\n",
      "XXXXXXXXXXXXXXXXXXXXXXXXXXXXXXXXXXXXXXXXXXXXXXXXXXXXXXXXXXXX\n",
      "\n",
      "XXXXXXXXXXGAGACCTGTGTGAGCACGAGGAGAACCCCTGCCAGCTCCGTGAACCCTGT\n",
      "\n",
      "CTGCATGGGGGCACCTGCCAGGGCACCCGCTGCCTCTGCCTCCCTGGCTTCTCTGGCCCA\n",
      "\n",
      "CGCTGCCAACAAGGCTCTGGACATGGCATAGCAGAGTCCGACTGGCATCTTGAAGGCAGC\n",
      "\n",
      "GGGGGCAATGATGCCCCTGGGCAGTACGGAGCCTATTTCCACGATGATGGCTTCCTTGCC\n",
      "\n",
      "TTCCCTGGCCGTGTCTTCTCCAGGAGCCTGCCCGAGGTGCCCGAGACCATCGAGCTGGAG\n",
      "\n",
      "GTTCGGACCAGCACAGCCAGTGGCCTCCTGCTCTGGCAGGGTGTGGAGGTGGGAGAGGCC\n",
      "\n",
      "GGCCAAGGCAAGGACTTCATCAGCCTCGGGCTTCAAGATGGGCACCTTGTCTTCANNNNN\n",
      "\n",
      "NNNNNNNNNNNNNNNNNNNNNNNNNNGTACCAGCTGGGTAGTGGGGAGGCCCGCCTGGTC\n",
      "\n",
      "TCTGAGGACCCCATCAATGACGGCGAGTGGCACCGGGTGACAGCACTGCGGGAGGGCCGC\n",
      "\n",
      "AGAGGTTCCATCCAAGTCGACGGTGAGGAGCTGGTCAGCGGCCGGTCCCCAGGTCCCAAC\n",
      "\n",
      "GTGGCAGTCAACGCCAAGGGCAGCGTCTACATCGGCGGAGCCCCTGACGTGGCCACGCTG\n",
      "\n",
      "ACCGGGGGCAGATTCTCCTCGGGCATCACAGGCTGTGTCAAGAACCTGGTGCTGCACTCG\n",
      "\n",
      "GCCCGACCCGGCGCCCCGCCCCCACAGCCCCTGGACCTGCAGCACCGCGCCCAGGCAGGG\n",
      "\n",
      "GCCAACACACGCCCCTGCCCCTCGTAG\n",
      "\n"
     ]
    }
   ],
   "source": [
    "#show what one of these files looks like\n",
    "fp = open(\"../../Downloads/nielsen_alignments/HC18675.fa\", \"r\")\n",
    "for ele in fp.readlines():\n",
    "    print ele\n",
    "fp.close()"
   ]
  },
  {
   "cell_type": "code",
   "execution_count": 66,
   "metadata": {
    "collapsed": false
   },
   "outputs": [],
   "source": [
    "#Find only elements that aren't \"X\" in either chimp or human\n",
    "fp = open(\"../../Downloads/nielsen_alignments/HC18675.fa\", \"r\")\n",
    "a = fp.readline() #This is the '>human 1548 bp\\n' type header\n",
    "humans, chimps = [], []\n",
    "switch = 0\n",
    "while a:\n",
    "    a = fp.readline()\n",
    "    if 'chimp' in a :\n",
    "        switch = 1\n",
    "        continue\n",
    "    if not switch:\n",
    "        humans+=a.strip('\\n')\n",
    "    else:\n",
    "        chimps+=a.strip('\\n')\n",
    "fp.close()"
   ]
  },
  {
   "cell_type": "code",
   "execution_count": 67,
   "metadata": {
    "collapsed": false
   },
   "outputs": [
    {
     "data": {
      "text/plain": [
       "(12807, 12807)"
      ]
     },
     "execution_count": 67,
     "metadata": {},
     "output_type": "execute_result"
    }
   ],
   "source": [
    "len(humans), len(chimps)"
   ]
  },
  {
   "cell_type": "code",
   "execution_count": 68,
   "metadata": {
    "collapsed": false
   },
   "outputs": [
    {
     "data": {
      "text/plain": [
       "(10191, 10191)"
      ]
     },
     "execution_count": 68,
     "metadata": {},
     "output_type": "execute_result"
    }
   ],
   "source": [
    "#Getting all non-'X' elements\n",
    "def get_non_X_elements(human_nucl, chimp_nucl):\n",
    "    if (human_nucl == 'X' or chimp_nucl == 'X' or human_nucl == '?' or chimp_nucl == '?' or human_nucl == 'N' or chimp_nucl == 'N'):\n",
    "        return False\n",
    "    else:\n",
    "        return True\n",
    "\n",
    "is_ele_non_X = [get_non_X_elements(ele1,ele2) for ele1, ele2 in zip(humans,chimps)]\n",
    "    \n",
    "humans_no_X = [ele1 for ele1, is_nuc_non_X in zip(humans, is_ele_non_X) if is_nuc_non_X]\n",
    "chimps_no_X = [ele1 for ele1, is_nuc_non_X in zip(chimps, is_ele_non_X) if is_nuc_non_X]\n",
    "\n",
    "len(humans_no_X), len(chimps_no_X)\n",
    "#human_nucl . intersect [get_non_X_elements(ele1,ele2) for ele1, ele2 in zip(humans,chimps)]"
   ]
  },
  {
   "cell_type": "code",
   "execution_count": 69,
   "metadata": {
    "collapsed": false
   },
   "outputs": [
    {
     "data": {
      "text/plain": [
       "209"
      ]
     },
     "execution_count": 69,
     "metadata": {},
     "output_type": "execute_result"
    }
   ],
   "source": [
    "#number of differences:\n",
    "sum([ele1!=ele2 for ele1, ele2 in zip(humans_no_X, chimps_no_X)])"
   ]
  },
  {
   "cell_type": "code",
   "execution_count": 70,
   "metadata": {
    "collapsed": false
   },
   "outputs": [
    {
     "data": {
      "image/png": "[encoded data removed]",
      "text/plain": [
       "<matplotlib.figure.Figure at 0x1106d6310>"
      ]
     },
     "metadata": {},
     "output_type": "display_data"
    }
   ],
   "source": [
    "#Now automate the previous parts:\n",
    "def print_differences_btw_human_and_chimp_seq(HC):\n",
    "    #Find only elements that aren't \"X\" in either chimp or human\n",
    "    fp = open(\"../../Downloads/nielsen_alignments/\" + HC + \".fa\", \"r\")\n",
    "    a = fp.readline() #This is the '>human 1548 bp\\n' type header\n",
    "    humans, chimps = [], []\n",
    "    switch = 0\n",
    "    while a:\n",
    "        a = fp.readline()\n",
    "        if 'chimp' in a :\n",
    "            switch = 1\n",
    "            continue\n",
    "        if not switch:\n",
    "            humans+=a.strip('\\n')\n",
    "        else:\n",
    "            chimps+=a.strip('\\n')\n",
    "    fp.close()\n",
    "    \n",
    "    is_ele_non_X = [get_non_X_elements(ele1,ele2) for ele1, ele2 in zip(humans,chimps)]\n",
    "    \n",
    "    humans_no_X = [ele1 for ele1, is_nuc_non_X in zip(humans, is_ele_non_X) if is_nuc_non_X]\n",
    "    chimps_no_X = [ele1 for ele1, is_nuc_non_X in zip(chimps, is_ele_non_X) if is_nuc_non_X]\n",
    "\n",
    "    #return sum([ele1!=ele2 for ele1, ele2 in zip(humans_no_X, chimps_no_X)])\n",
    "    cutoff = dataframe_indep_loci[dataframe_indep_loci.Gene == HC].cutoff_number_of_nucleotides.values[0]\n",
    "    return sum([ele1!=ele2 for ele1, ele2 in zip(humans_no_X[:cutoff], chimps_no_X[:cutoff])])\n",
    "\n",
    "diffs = {}\n",
    "for HC in dataframe_indep_loci.Gene.values:\n",
    "    diff = print_differences_btw_human_and_chimp_seq(HC)\n",
    "    \n",
    "    diffs[HC]=diff\n",
    "\n",
    "    \n",
    "_ = plt.hist(diffs.values(), bins= 45)\n",
    "\n",
    "    "
   ]
  },
  {
   "cell_type": "code",
   "execution_count": 81,
   "metadata": {
    "collapsed": false
   },
   "outputs": [
    {
     "name": "stdout",
     "output_type": "stream",
     "text": [
      "[0, 1, 2, 3, 4, 5, 6, 7, 8, 9, 10, 11, 12, 13, 14, 15, 16, 17, 18, 19]\n"
     ]
    },
    {
     "data": {
      "text/plain": [
       "[3, 4, 5, 6, 7, 8, 9, 10, 11, 12, 13, 14, 15, 16]"
      ]
     },
     "execution_count": 81,
     "metadata": {},
     "output_type": "execute_result"
    }
   ],
   "source": [
    "dfa=range(20)\n",
    "print dfa\n",
    "dfa[2::3]\n",
    "dfa[3:-3]"
   ]
  },
  {
   "cell_type": "code",
   "execution_count": 83,
   "metadata": {
    "collapsed": false
   },
   "outputs": [
    {
     "data": {
      "image/png": "[encoded data removed]",
      "text/plain": [
       "<matplotlib.figure.Figure at 0x1144078d0>"
      ]
     },
     "metadata": {},
     "output_type": "display_data"
    }
   ],
   "source": [
    "#2016-04-19 We only consider the last codon, which we assume to be neutral.  We also remove the start codon.\n",
    "\n",
    "def print_differences_btw_human_and_chimp_seq_neutral(HC):\n",
    "    #Find only elements that aren't \"X\" in either chimp or human\n",
    "    fp = open(\"../../Downloads/nielsen_alignments/\" + HC + \".fa\", \"r\")\n",
    "    a = fp.readline() #This is the '>human 1548 bp\\n' type header\n",
    "    humans, chimps = [], []\n",
    "    switch = 0\n",
    "    while a:\n",
    "        a = fp.readline()\n",
    "        if 'chimp' in a :\n",
    "            switch = 1\n",
    "            continue\n",
    "        if not switch:\n",
    "            humans+=a.strip('\\n')\n",
    "        else:\n",
    "            chimps+=a.strip('\\n')      \n",
    "    fp.close()\n",
    "    \n",
    "    humans = humans[3:-3] #Removing stop and start codon\n",
    "    humans_neutral = humans[2::3] #Only preserving neutral sites, or just the 3rd nucleotide sites\n",
    "    chimps = chimps[3:-3] #Removing stop and start codon\n",
    "    chimps_neutral = chimps[2::3] #Only preserving neutral sites, or just the 3rd nucleotide sites\n",
    "    \n",
    "    is_ele_non_X = [get_non_X_elements(ele1,ele2) for ele1, ele2 in zip(humans_neutral,chimps_neutral)]\n",
    "    \n",
    "    humans_no_X_neutral = [ele1 for ele1, is_nuc_non_X in zip(humans_neutral, is_ele_non_X) if is_nuc_non_X]\n",
    "    chimps_no_X_neutral = [ele1 for ele1, is_nuc_non_X in zip(chimps_neutral, is_ele_non_X) if is_nuc_non_X]\n",
    "\n",
    "    #return sum([ele1!=ele2 for ele1, ele2 in zip(humans_no_X, chimps_no_X)])\n",
    "    cutoff = dataframe_indep_loci[dataframe_indep_loci.Gene == HC].cutoff_number_of_nucleotides.values[0]\n",
    "    return sum([ele1!=ele2 for ele1, ele2 in zip(humans_no_X_neutral[:cutoff], chimps_no_X_neutral[:cutoff])])\n",
    "\n",
    "diffs_neutral = {}\n",
    "for HC in dataframe_indep_loci.Gene.values:\n",
    "    diff = print_differences_btw_human_and_chimp_seq_neutral(HC)\n",
    "    \n",
    "    diffs_neutral[HC]=diff\n",
    "\n",
    "    \n",
    "_ = plt.hist(diffs_neutral.values(), bins= 45)\n",
    "\n",
    "    "
   ]
  },
  {
   "cell_type": "code",
   "execution_count": 71,
   "metadata": {
    "collapsed": false
   },
   "outputs": [
    {
     "name": "stdout",
     "output_type": "stream",
     "text": [
      "       Gene gene symbol  # nucleotides included in restrictive data set?         transcript chr  n_exons  tx_start    tx_end    bp    mu_syn    mu_mis    mu_lof        mu  mu_per_nucleotide  cutoff_number_of_nucleotides separated_enough\n",
      "712  HC1419      NLGN4Y            837                                no  ENST00000355905.2   Y        5  16733999  16953142  2451  0.000014  0.000028  0.000001  0.000043       1.763550e-08                           567             True\n"
     ]
    },
    {
     "data": {
      "text/plain": [
       "7"
      ]
     },
     "execution_count": 71,
     "metadata": {},
     "output_type": "execute_result"
    }
   ],
   "source": [
    "#Check where Y chromosome lies\n",
    "print dataframe_indep_loci[dataframe_indep_loci.chr ==\"Y\"]\n",
    "\n",
    "diffs['HC1419']"
   ]
  },
  {
   "cell_type": "code",
   "execution_count": 72,
   "metadata": {
    "collapsed": false
   },
   "outputs": [
    {
     "data": {
      "text/plain": [
       "1380"
      ]
     },
     "execution_count": 72,
     "metadata": {},
     "output_type": "execute_result"
    }
   ],
   "source": [
    "len(diffs)"
   ]
  },
  {
   "cell_type": "markdown",
   "metadata": {},
   "source": [
    "What gene to use?  We need a gene that has a known tmrca.  If you know chimp, human divergence, then that gives you an estimate.  I don't knwo a gene with known TMRCA.\n",
    "Other thoughts: do the sex chromosomes evolve differently than the autosomes?  Can we assume that they are from the same distribution?\n",
    "Also, we are assuming same mutation rate for chimps and humans."
   ]
  },
  {
   "cell_type": "code",
   "execution_count": 73,
   "metadata": {
    "collapsed": false
   },
   "outputs": [
    {
     "data": {
      "text/plain": [
       "<matplotlib.axes._subplots.AxesSubplot at 0x10dc53e10>"
      ]
     },
     "execution_count": 73,
     "metadata": {},
     "output_type": "execute_result"
    },
    {
     "data": {
      "image/png": "[encoded data removed]",
      "text/plain": [
       "<matplotlib.figure.Figure at 0x1119b6ed0>"
      ]
     },
     "metadata": {},
     "output_type": "display_data"
    }
   ],
   "source": [
    "#add dictionary as column\n",
    "dataframe_indep_loci[\"created_num_muts\"] = dataframe_indep_loci['Gene'].map(diffs)\n",
    "dataframe_indep_loci.head()\n",
    "\n",
    "dataframe_indep_loci[dataframe_indep_loci.chr!=\"X\"].created_num_muts.hist(bins=50)\n",
    "dataframe_indep_loci[dataframe_indep_loci.chr==\"X\"].created_num_muts.hist(bins=50)"
   ]
  },
  {
   "cell_type": "code",
   "execution_count": 74,
   "metadata": {
    "collapsed": false
   },
   "outputs": [
    {
     "name": "stderr",
     "output_type": "stream",
     "text": [
      "//anaconda/lib/python2.7/site-packages/matplotlib/axes/_axes.py:5933: UserWarning: 2D hist input should be nsamples x nvariables;\n",
      " this looks transposed (shape is 1 x 12)\n",
      "  'this looks transposed (shape is %d x %d)' % x.shape[::-1])\n"
     ]
    },
    {
     "data": {
      "text/plain": [
       "array([[<matplotlib.axes._subplots.AxesSubplot object at 0x110c4e950>,\n",
       "        <matplotlib.axes._subplots.AxesSubplot object at 0x111fc33d0>,\n",
       "        <matplotlib.axes._subplots.AxesSubplot object at 0x11203f390>,\n",
       "        <matplotlib.axes._subplots.AxesSubplot object at 0x1106ecc50>,\n",
       "        <matplotlib.axes._subplots.AxesSubplot object at 0x110736fd0>],\n",
       "       [<matplotlib.axes._subplots.AxesSubplot object at 0x10e10e8d0>,\n",
       "        <matplotlib.axes._subplots.AxesSubplot object at 0x110cb7d50>,\n",
       "        <matplotlib.axes._subplots.AxesSubplot object at 0x1120c54d0>,\n",
       "        <matplotlib.axes._subplots.AxesSubplot object at 0x11211d990>,\n",
       "        <matplotlib.axes._subplots.AxesSubplot object at 0x112195950>],\n",
       "       [<matplotlib.axes._subplots.AxesSubplot object at 0x1121f5790>,\n",
       "        <matplotlib.axes._subplots.AxesSubplot object at 0x11227d9d0>,\n",
       "        <matplotlib.axes._subplots.AxesSubplot object at 0x1122ff990>,\n",
       "        <matplotlib.axes._subplots.AxesSubplot object at 0x11236e550>,\n",
       "        <matplotlib.axes._subplots.AxesSubplot object at 0x1123ef510>],\n",
       "       [<matplotlib.axes._subplots.AxesSubplot object at 0x112453690>,\n",
       "        <matplotlib.axes._subplots.AxesSubplot object at 0x1124d4750>,\n",
       "        <matplotlib.axes._subplots.AxesSubplot object at 0x11250c850>,\n",
       "        <matplotlib.axes._subplots.AxesSubplot object at 0x1125c4790>,\n",
       "        <matplotlib.axes._subplots.AxesSubplot object at 0x112645750>],\n",
       "       [<matplotlib.axes._subplots.AxesSubplot object at 0x1126a8a90>,\n",
       "        <matplotlib.axes._subplots.AxesSubplot object at 0x11272ba50>,\n",
       "        <matplotlib.axes._subplots.AxesSubplot object at 0x112793890>,\n",
       "        <matplotlib.axes._subplots.AxesSubplot object at 0x11281bad0>,\n",
       "        <matplotlib.axes._subplots.AxesSubplot object at 0x11289da90>]], dtype=object)"
      ]
     },
     "execution_count": 74,
     "metadata": {},
     "output_type": "execute_result"
    },
    {
     "data": {
      "image/png": "[encoded data removed]",
      "text/plain": [
       "<matplotlib.figure.Figure at 0x1119b6850>"
      ]
     },
     "metadata": {},
     "output_type": "display_data"
    }
   ],
   "source": [
    "dataframe_indep_loci.hist(by=dataframe_indep_loci['chr'])"
   ]
  },
  {
   "cell_type": "code",
   "execution_count": 75,
   "metadata": {
    "collapsed": false
   },
   "outputs": [
    {
     "data": {
      "text/plain": [
       "1313"
      ]
     },
     "execution_count": 75,
     "metadata": {},
     "output_type": "execute_result"
    }
   ],
   "source": [
    "autosomes_indep_loci = dataframe_indep_loci[dataframe_indep_loci.chr!=\"X\"]\n",
    "autosomes_indep_loci = autosomes_indep_loci[autosomes_indep_loci.chr!=\"Y\"]\n",
    "len(autosomes_indep_loci)"
   ]
  },
  {
   "cell_type": "code",
   "execution_count": 76,
   "metadata": {
    "collapsed": false
   },
   "outputs": [
    {
     "data": {
      "image/png": "[encoded data removed]",
      "text/plain": [
       "<matplotlib.figure.Figure at 0x11296d650>"
      ]
     },
     "metadata": {},
     "output_type": "display_data"
    }
   ],
   "source": [
    "_=plt.hist(autosomes_indep_loci.created_num_muts.values, bins=100)"
   ]
  },
  {
   "cell_type": "code",
   "execution_count": 293,
   "metadata": {
    "collapsed": false
   },
   "outputs": [
    {
     "name": "stdout",
     "output_type": "stream",
     "text": [
      "0 35 minPt maxPt\n",
      "[0.02937469713106218, 0.03722324056474751, 0.04714836171736824, 0.10812449203033375, 0.16709797300866885, 0.22044029741944884, 0.7490156480211351, 5.6208946656279455, 1.0201251780989216, 9.46656649135988, 27.51603498542274, 18.0, 112.66666666666666, 29.03703703703703, 1350.0, 96.0, False, False, False, False, False, False, False, False, False, False, False, False, False, False, False, False, False, False]\n",
      "{0: 149, 1: 246, 2: 269, 3: 212, 4: 169, 5: 114, 6: 54, 7: 29, 8: 34, 9: 11, 10: 7, 11: 6, 12: 3, 13: 3, 14: 1, 15: 2, 16: 1, 17: 0, 18: 0, 19: 1, 20: 0, 21: 0, 22: 0, 23: 0, 24: 0, 25: 0, 26: 1, 27: 0, 28: 0, 29: 0, 30: 0, 31: 0, 32: 0, 33: 0, 34: 0, 35: 1}\n",
      "[149, 246, 269, 212, 169, 114, 54, 29, 34, 11, 7, 6, 3, 3, 1, 2, 1, 0, 0, 1, 0, 0, 0, 0, 0, 0, 1, 0, 0, 0, 0, 0, 0, 0, 0, 1]\n"
     ]
    }
   ],
   "source": [
    "#We get an estimate of the variance for observed number of mutations from minPt to maxPt\n",
    "minPt = min(autosomes_indep_loci.created_num_muts.values)\n",
    "maxPt = max(autosomes_indep_loci.created_num_muts.values)\n",
    "print minPt, maxPt, 'minPt', 'maxPt'\n",
    "mx = {i:len(autosomes_indep_loci[autosomes_indep_loci.created_num_muts == i]) for i in range(minPt, maxPt +1)}\n",
    "\n",
    "def invVar(mx, x):\n",
    "    if mx[x]>0 and mx[x+1]>0:\n",
    "        return pow(x+1,2)*pow(float(mx[x+1])/mx[x],2)*(1.0/mx[x] + 1.0 /mx[x+1])\n",
    "    else:\n",
    "        return False\n",
    "    \n",
    "print [invVar(mx,i) for i in range(minPt,maxPt-1)]\n",
    "    \n",
    "print mx\n",
    "print mx.values()\n",
    "    \n",
    "#((z+1)^2*(x^2/y^2)*(1/x + 1/y))^(-1), numWeights, denomWeights, minPt:(maxPt-1)"
   ]
  },
  {
   "cell_type": "code",
   "execution_count": 271,
   "metadata": {
    "collapsed": false
   },
   "outputs": [
    {
     "data": {
      "text/plain": [
       "35"
      ]
     },
     "execution_count": 271,
     "metadata": {},
     "output_type": "execute_result"
    }
   ],
   "source": [
    "maxPt"
   ]
  },
  {
   "cell_type": "code",
   "execution_count": 283,
   "metadata": {
    "collapsed": true
   },
   "outputs": [],
   "source": [
    "#http://scikit-learn.org/stable/auto_examples/plot_isotonic_regression.html\n",
    "\n",
    "from sklearn.isotonic import IsotonicRegression\n",
    "\n",
    "ir = IsotonicRegression()\n",
    "\n",
    "y_ = ir.fit_transform(range(minPt,maxPt), y)"
   ]
  },
  {
   "cell_type": "code",
   "execution_count": 282,
   "metadata": {
    "collapsed": true
   },
   "outputs": [],
   "source": [
    "#maybe should just do in R"
   ]
  },
  {
   "cell_type": "code",
   "execution_count": null,
   "metadata": {
    "collapsed": true
   },
   "outputs": [],
   "source": []
  }
 ],
 "metadata": {
  "kernelspec": {
   "display_name": "Python 2",
   "language": "python",
   "name": "python2"
  },
  "language_info": {
   "codemirror_mode": {
    "name": "ipython",
    "version": 2
   },
   "file_extension": ".py",
   "mimetype": "text/x-python",
   "name": "python",
   "nbconvert_exporter": "python",
   "pygments_lexer": "ipython2",
   "version": "2.7.11"
  }
 },
 "nbformat": 4,
 "nbformat_minor": 0
}
