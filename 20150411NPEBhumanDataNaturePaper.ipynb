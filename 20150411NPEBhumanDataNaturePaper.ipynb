{
 "cells": [
  {
   "cell_type": "code",
   "execution_count": 1,
   "metadata": {
    "collapsed": false
   },
   "outputs": [
    {
     "name": "stderr",
     "output_type": "stream",
     "text": [
      "//anaconda/lib/python2.7/site-packages/matplotlib/__init__.py:872: UserWarning: axes.color_cycle is deprecated and replaced with axes.prop_cycle; please use the latter.\n",
      "  warnings.warn(self.msg_depr % (key, alt_key))\n"
     ]
    }
   ],
   "source": [
    "%matplotlib inline\n",
    "\n",
    "import pandas as pd\n",
    "import matplotlib.pyplot as plt\n",
    "import numpy as np\n",
    "\n",
    "pd.set_option('display.width', 500)\n",
    "pd.set_option('display.max_columns', 100)\n",
    "pd.set_option('display.notebook_repr_html', True)\n",
    "import seaborn as sns\n",
    "sns.set_style(\"whitegrid\")\n",
    "sns.set_context(\"poster\")"
   ]
  },
  {
   "cell_type": "markdown",
   "metadata": {},
   "source": [
    "\"The coalescent-based analysis performed by G-PhoCS assumes the input alignments represent a set of pu- tative “neutral loci” in which recombination occurred at negligible rates during the sample history, and between which recombination occurred at sufficiently high rates that the genealogies are approximately un- correlated\"  http://www.nature.com.ezp-prod1.hul.harvard.edu/ng/journal/v43/n10/extref/ng.937-S1.pdf"
   ]
  },
  {
   "cell_type": "code",
   "execution_count": 51,
   "metadata": {
    "collapsed": false
   },
   "outputs": [],
   "source": [
    "def get_non_X_elements(human_nucl, chimp_nucl):\n",
    "   # if (human_nucl == 'X' or chimp_nucl == 'X' \\\n",
    "   #     or human_nucl == '?' or chimp_nucl == '?'\\\n",
    "   #     or human_nucl == 'N' or chimp_nucl == 'N'\\\n",
    "   #    or human_nucl == '\\n' or chimp_nucl == '\\n'):\n",
    "    if (human_nucl not in ['a','t','c','g','A','T','C','G'] or chimp_nucl not in ['a','t','c','g','A','T','C','G']):\n",
    "        return False\n",
    "    else:\n",
    "        return True\n"
   ]
  },
  {
   "cell_type": "code",
   "execution_count": 77,
   "metadata": {
    "collapsed": false
   },
   "outputs": [
    {
     "name": "stdout",
     "output_type": "stream",
     "text": [
      "['', '', '', '', '', '', '', '', '', '']\n"
     ]
    },
    {
     "data": {
      "text/plain": [
       "834"
      ]
     },
     "execution_count": 77,
     "metadata": {},
     "output_type": "execute_result"
    }
   ],
   "source": [
    "cutoff = 833 #93 #833 is between 1 and 2\n",
    "first_genome = 1 #5\n",
    "second_genome = 2 #7\n",
    "\n",
    "neutralLoci7Genomes = open(\"../../Downloads/neutralLoci-7genomes.txt\", \"r\")\n",
    "\n",
    "#a = neutralLoci7Genomes.readlines()\n",
    "\n",
    "d={}\n",
    "\n",
    "neutralLoci7Genomes.readline()\n",
    "a = neutralLoci7Genomes.readline()\n",
    "\n",
    "#['sjk', 'hanChinese', 'venter', 'na12891', 'na18507', 'abt', 'kb1', 'chimp'] are the different values\n",
    "#We choose to keep sjk and hanChinese\n",
    "l=[]\n",
    "\n",
    "cuffott = 1000\n",
    "while a:\n",
    "    a = [neutralLoci7Genomes.readline() for i in range(10)]\n",
    "    #d[a[0].strip('\\n')] = [ele.split('\\t')[0] for ele in a[1:-1]]\n",
    "    try:\n",
    "        d[a[0].strip('\\n')] = [ele.split('\\t')[1] for ele in a[1:3]]\n",
    "    except:\n",
    "        print a\n",
    "        break\n",
    "    \n",
    "    is_ele_non_X = [get_non_X_elements(ele1,ele2) for ele1, ele2 in zip(a[first_genome].split('\\t')[1],a[second_genome].split('\\t')[1])]\n",
    "    \n",
    "    sjk_no_X = [ele1.lower() for ele1, is_nuc_non_X in zip(a[first_genome].split('\\t')[1], is_ele_non_X) if is_nuc_non_X]\n",
    "    hanChinese_no_X = [ele1.lower() for ele1, is_nuc_non_X in zip(a[second_genome].split('\\t')[1], is_ele_non_X) if is_nuc_non_X]\n",
    "    \n",
    "    if len(sjk_no_X) < cuffott:\n",
    "        cuffott = len(sjk_no_X)\n",
    "    \n",
    "    l.append(sum([ele1!=ele2 for ele1, ele2 in zip(sjk_no_X[:cutoff], hanChinese_no_X[:cutoff])]))\n",
    "\n",
    "    #print [ele.split('\\t')[0] for ele in a[1:-1]]\n",
    "\n",
    "#pd.DataFrame.from_dict(d)\n",
    "cuffott"
   ]
  },
  {
   "cell_type": "code",
   "execution_count": 78,
   "metadata": {
    "collapsed": false
   },
   "outputs": [
    {
     "data": {
      "text/plain": [
       "(array([  3.55510000e+04,   1.49500000e+03,   3.64000000e+02,\n",
       "          1.09000000e+02,   3.30000000e+01,   1.60000000e+01,\n",
       "          4.00000000e+00,   2.00000000e+00]),\n",
       " array([-0.5,  0.5,  1.5,  2.5,  3.5,  4.5,  5.5,  6.5,  7.5]),\n",
       " <a list of 8 Patch objects>)"
      ]
     },
     "execution_count": 78,
     "metadata": {},
     "output_type": "execute_result"
    },
    {
     "data": {
      "image/png": "[encoded data removed]",
      "text/plain": [
       "<matplotlib.figure.Figure at 0x10ff0bb10>"
      ]
     },
     "metadata": {},
     "output_type": "display_data"
    }
   ],
   "source": [
    "#plt.hist(l, bins = 20)\n",
    "plt.hist(l, np.arange(min(l)-0.5, max(l)+1.5)) "
   ]
  },
  {
   "cell_type": "code",
   "execution_count": 66,
   "metadata": {
    "collapsed": true
   },
   "outputs": [],
   "source": [
    "neutralLoci7Genomes.close()"
   ]
  },
  {
   "cell_type": "code",
   "execution_count": 69,
   "metadata": {
    "collapsed": false
   },
   "outputs": [
    {
     "name": "stdout",
     "output_type": "stream",
     "text": [
      "0 7 minPt maxPt\n"
     ]
    },
    {
     "data": {
      "text/plain": [
       "{0: 35551, 1: 1495, 2: 364, 3: 109, 4: 33, 5: 16, 6: 4, 7: 2}"
      ]
     },
     "execution_count": 69,
     "metadata": {},
     "output_type": "execute_result"
    }
   ],
   "source": [
    "minPt = min(l)\n",
    "maxPt = max(l)\n",
    "print minPt, maxPt, 'minPt', 'maxPt'\n",
    "mx = {i:l.count(i) for i in range(minPt, maxPt +1)}\n"
   ]
  },
  {
   "cell_type": "code",
   "execution_count": 70,
   "metadata": {
    "collapsed": false
   },
   "outputs": [
    {
     "data": {
      "text/plain": [
       "[35551, 1495, 364, 109, 33, 16, 4, 2]"
      ]
     },
     "execution_count": 70,
     "metadata": {},
     "output_type": "execute_result"
    }
   ],
   "source": [
    "mx.values()"
   ]
  },
  {
   "cell_type": "code",
   "execution_count": null,
   "metadata": {
    "collapsed": true
   },
   "outputs": [],
   "source": []
  }
 ],
 "metadata": {
  "kernelspec": {
   "display_name": "Python 2",
   "language": "python",
   "name": "python2"
  },
  "language_info": {
   "codemirror_mode": {
    "name": "ipython",
    "version": 2
   },
   "file_extension": ".py",
   "mimetype": "text/x-python",
   "name": "python",
   "nbconvert_exporter": "python",
   "pygments_lexer": "ipython2",
   "version": "2.7.11"
  }
 },
 "nbformat": 4,
 "nbformat_minor": 0
}
